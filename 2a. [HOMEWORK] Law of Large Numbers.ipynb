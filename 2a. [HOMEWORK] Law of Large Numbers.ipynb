{
 "cells": [
  {
   "cell_type": "markdown",
   "metadata": {},
   "source": [
    "# HOMEWORK: Law of Large Numbers"
   ]
  },
  {
   "cell_type": "code",
   "execution_count": 2,
   "metadata": {},
   "outputs": [
    {
     "data": {
      "text/html": [
       "0.6848"
      ],
      "text/latex": [
       "0.6848"
      ],
      "text/markdown": [
       "0.6848"
      ],
      "text/plain": [
       "[1] 0.6848"
      ]
     },
     "metadata": {},
     "output_type": "display_data"
    }
   ],
   "source": [
    "N <- 10000                  #specify sample size\n",
    "counter <- 0                #reset counter\n",
    "for(i in rnorm(N)) {        #iterate over vector of numbers\n",
    "  if(i > -1 & i < 1) {      #check where iterated variable falls\n",
    "    counter <- counter + 1  #increase counter if condition is met\n",
    "  }\n",
    "}\n",
    "answare <- counter / N      #calculate hit-ratio\n",
    "answare                     #print answare in console"
   ]
  }
 ],
 "metadata": {
  "kernelspec": {
   "display_name": "R",
   "language": "R",
   "name": "r"
  },
  "language_info": {
   "codemirror_mode": "r",
   "file_extension": ".r",
   "mimetype": "text/x-r-source",
   "name": "R",
   "pygments_lexer": "r",
   "version": "3.4.1"
  }
 },
 "nbformat": 4,
 "nbformat_minor": 2
}
