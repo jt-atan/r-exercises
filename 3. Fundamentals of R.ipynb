{
 "cells": [
  {
   "cell_type": "markdown",
   "metadata": {},
   "source": [
    "# Let's create some vectors"
   ]
  },
  {
   "cell_type": "markdown",
   "metadata": {},
   "source": [
    "## Vector of doubles"
   ]
  },
  {
   "cell_type": "code",
   "execution_count": 1,
   "metadata": {},
   "outputs": [
    {
     "data": {
      "text/html": [
       "<ol class=list-inline>\n",
       "\t<li>3</li>\n",
       "\t<li>45</li>\n",
       "\t<li>56</li>\n",
       "\t<li>732</li>\n",
       "</ol>\n"
      ],
      "text/latex": [
       "\\begin{enumerate*}\n",
       "\\item 3\n",
       "\\item 45\n",
       "\\item 56\n",
       "\\item 732\n",
       "\\end{enumerate*}\n"
      ],
      "text/markdown": [
       "1. 3\n",
       "2. 45\n",
       "3. 56\n",
       "4. 732\n",
       "\n",
       "\n"
      ],
      "text/plain": [
       "[1]   3  45  56 732"
      ]
     },
     "metadata": {},
     "output_type": "display_data"
    },
    {
     "data": {
      "text/html": [
       "TRUE"
      ],
      "text/latex": [
       "TRUE"
      ],
      "text/markdown": [
       "TRUE"
      ],
      "text/plain": [
       "[1] TRUE"
      ]
     },
     "metadata": {},
     "output_type": "display_data"
    },
    {
     "data": {
      "text/html": [
       "FALSE"
      ],
      "text/latex": [
       "FALSE"
      ],
      "text/markdown": [
       "FALSE"
      ],
      "text/plain": [
       "[1] FALSE"
      ]
     },
     "metadata": {},
     "output_type": "display_data"
    },
    {
     "data": {
      "text/html": [
       "TRUE"
      ],
      "text/latex": [
       "TRUE"
      ],
      "text/markdown": [
       "TRUE"
      ],
      "text/plain": [
       "[1] TRUE"
      ]
     },
     "metadata": {},
     "output_type": "display_data"
    }
   ],
   "source": [
    "MyFirstVector <- c(3, 45, 56, 732)\n",
    "MyFirstVector\n",
    "is.numeric(MyFirstVector)\n",
    "is.integer(MyFirstVector)\n",
    "is.double(MyFirstVector)"
   ]
  },
  {
   "cell_type": "markdown",
   "metadata": {},
   "source": [
    "## Vector of integers"
   ]
  },
  {
   "cell_type": "code",
   "execution_count": 2,
   "metadata": {},
   "outputs": [
    {
     "data": {
      "text/html": [
       "TRUE"
      ],
      "text/latex": [
       "TRUE"
      ],
      "text/markdown": [
       "TRUE"
      ],
      "text/plain": [
       "[1] TRUE"
      ]
     },
     "metadata": {},
     "output_type": "display_data"
    },
    {
     "data": {
      "text/html": [
       "TRUE"
      ],
      "text/latex": [
       "TRUE"
      ],
      "text/markdown": [
       "TRUE"
      ],
      "text/plain": [
       "[1] TRUE"
      ]
     },
     "metadata": {},
     "output_type": "display_data"
    },
    {
     "data": {
      "text/html": [
       "FALSE"
      ],
      "text/latex": [
       "FALSE"
      ],
      "text/markdown": [
       "FALSE"
      ],
      "text/plain": [
       "[1] FALSE"
      ]
     },
     "metadata": {},
     "output_type": "display_data"
    }
   ],
   "source": [
    "V2 <- c(3L, 12L, 234L, 0L)\n",
    "is.numeric((V2))\n",
    "is.integer(V2)\n",
    "is.double(V2)"
   ]
  },
  {
   "cell_type": "markdown",
   "metadata": {},
   "source": [
    "## In a vector you can find only elements of the same basic type"
   ]
  },
  {
   "cell_type": "code",
   "execution_count": 3,
   "metadata": {},
   "outputs": [
    {
     "data": {
      "text/html": [
       "<ol class=list-inline>\n",
       "\t<li>'a'</li>\n",
       "\t<li>'B23'</li>\n",
       "\t<li>'Hello'</li>\n",
       "\t<li>'7'</li>\n",
       "</ol>\n"
      ],
      "text/latex": [
       "\\begin{enumerate*}\n",
       "\\item 'a'\n",
       "\\item 'B23'\n",
       "\\item 'Hello'\n",
       "\\item '7'\n",
       "\\end{enumerate*}\n"
      ],
      "text/markdown": [
       "1. 'a'\n",
       "2. 'B23'\n",
       "3. 'Hello'\n",
       "4. '7'\n",
       "\n",
       "\n"
      ],
      "text/plain": [
       "[1] \"a\"     \"B23\"   \"Hello\" \"7\"    "
      ]
     },
     "metadata": {},
     "output_type": "display_data"
    },
    {
     "data": {
      "text/html": [
       "TRUE"
      ],
      "text/latex": [
       "TRUE"
      ],
      "text/markdown": [
       "TRUE"
      ],
      "text/plain": [
       "[1] TRUE"
      ]
     },
     "metadata": {},
     "output_type": "display_data"
    },
    {
     "data": {
      "text/html": [
       "FALSE"
      ],
      "text/latex": [
       "FALSE"
      ],
      "text/markdown": [
       "FALSE"
      ],
      "text/plain": [
       "[1] FALSE"
      ]
     },
     "metadata": {},
     "output_type": "display_data"
    }
   ],
   "source": [
    "V3 <- c(\"a\", \"B23\", \"Hello\", 7)\n",
    "V3\n",
    "is.character(V3)\n",
    "is.numeric(V3)"
   ]
  },
  {
   "cell_type": "markdown",
   "metadata": {},
   "source": [
    "## Sequence"
   ]
  },
  {
   "cell_type": "code",
   "execution_count": 4,
   "metadata": {},
   "outputs": [
    {
     "data": {
      "text/html": [
       "1"
      ],
      "text/latex": [
       "1"
      ],
      "text/markdown": [
       "1"
      ],
      "text/plain": [
       "[1] 1"
      ]
     },
     "metadata": {},
     "output_type": "display_data"
    },
    {
     "data": {
      "text/html": [
       "<ol class=list-inline>\n",
       "\t<li>1</li>\n",
       "\t<li>2</li>\n",
       "\t<li>3</li>\n",
       "\t<li>4</li>\n",
       "\t<li>5</li>\n",
       "\t<li>6</li>\n",
       "\t<li>7</li>\n",
       "\t<li>8</li>\n",
       "\t<li>9</li>\n",
       "\t<li>10</li>\n",
       "\t<li>11</li>\n",
       "\t<li>12</li>\n",
       "\t<li>13</li>\n",
       "\t<li>14</li>\n",
       "\t<li>15</li>\n",
       "</ol>\n"
      ],
      "text/latex": [
       "\\begin{enumerate*}\n",
       "\\item 1\n",
       "\\item 2\n",
       "\\item 3\n",
       "\\item 4\n",
       "\\item 5\n",
       "\\item 6\n",
       "\\item 7\n",
       "\\item 8\n",
       "\\item 9\n",
       "\\item 10\n",
       "\\item 11\n",
       "\\item 12\n",
       "\\item 13\n",
       "\\item 14\n",
       "\\item 15\n",
       "\\end{enumerate*}\n"
      ],
      "text/markdown": [
       "1. 1\n",
       "2. 2\n",
       "3. 3\n",
       "4. 4\n",
       "5. 5\n",
       "6. 6\n",
       "7. 7\n",
       "8. 8\n",
       "9. 9\n",
       "10. 10\n",
       "11. 11\n",
       "12. 12\n",
       "13. 13\n",
       "14. 14\n",
       "15. 15\n",
       "\n",
       "\n"
      ],
      "text/plain": [
       " [1]  1  2  3  4  5  6  7  8  9 10 11 12 13 14 15"
      ]
     },
     "metadata": {},
     "output_type": "display_data"
    },
    {
     "data": {
      "text/html": [
       "<ol class=list-inline>\n",
       "\t<li>1</li>\n",
       "\t<li>2</li>\n",
       "\t<li>3</li>\n",
       "\t<li>4</li>\n",
       "\t<li>5</li>\n",
       "\t<li>6</li>\n",
       "\t<li>7</li>\n",
       "\t<li>8</li>\n",
       "\t<li>9</li>\n",
       "\t<li>10</li>\n",
       "\t<li>11</li>\n",
       "\t<li>12</li>\n",
       "\t<li>13</li>\n",
       "\t<li>14</li>\n",
       "\t<li>15</li>\n",
       "</ol>\n"
      ],
      "text/latex": [
       "\\begin{enumerate*}\n",
       "\\item 1\n",
       "\\item 2\n",
       "\\item 3\n",
       "\\item 4\n",
       "\\item 5\n",
       "\\item 6\n",
       "\\item 7\n",
       "\\item 8\n",
       "\\item 9\n",
       "\\item 10\n",
       "\\item 11\n",
       "\\item 12\n",
       "\\item 13\n",
       "\\item 14\n",
       "\\item 15\n",
       "\\end{enumerate*}\n"
      ],
      "text/markdown": [
       "1. 1\n",
       "2. 2\n",
       "3. 3\n",
       "4. 4\n",
       "5. 5\n",
       "6. 6\n",
       "7. 7\n",
       "8. 8\n",
       "9. 9\n",
       "10. 10\n",
       "11. 11\n",
       "12. 12\n",
       "13. 13\n",
       "14. 14\n",
       "15. 15\n",
       "\n",
       "\n"
      ],
      "text/plain": [
       " [1]  1  2  3  4  5  6  7  8  9 10 11 12 13 14 15"
      ]
     },
     "metadata": {},
     "output_type": "display_data"
    },
    {
     "data": {
      "text/html": [
       "<ol class=list-inline>\n",
       "\t<li>1</li>\n",
       "\t<li>3</li>\n",
       "\t<li>5</li>\n",
       "\t<li>7</li>\n",
       "\t<li>9</li>\n",
       "\t<li>11</li>\n",
       "\t<li>13</li>\n",
       "\t<li>15</li>\n",
       "</ol>\n"
      ],
      "text/latex": [
       "\\begin{enumerate*}\n",
       "\\item 1\n",
       "\\item 3\n",
       "\\item 5\n",
       "\\item 7\n",
       "\\item 9\n",
       "\\item 11\n",
       "\\item 13\n",
       "\\item 15\n",
       "\\end{enumerate*}\n"
      ],
      "text/markdown": [
       "1. 1\n",
       "2. 3\n",
       "3. 5\n",
       "4. 7\n",
       "5. 9\n",
       "6. 11\n",
       "7. 13\n",
       "8. 15\n",
       "\n",
       "\n"
      ],
      "text/plain": [
       "[1]  1  3  5  7  9 11 13 15"
      ]
     },
     "metadata": {},
     "output_type": "display_data"
    },
    {
     "data": {
      "text/html": [
       "<ol class=list-inline>\n",
       "\t<li>1</li>\n",
       "\t<li>5</li>\n",
       "\t<li>9</li>\n",
       "\t<li>13</li>\n",
       "</ol>\n"
      ],
      "text/latex": [
       "\\begin{enumerate*}\n",
       "\\item 1\n",
       "\\item 5\n",
       "\\item 9\n",
       "\\item 13\n",
       "\\end{enumerate*}\n"
      ],
      "text/markdown": [
       "1. 1\n",
       "2. 5\n",
       "3. 9\n",
       "4. 13\n",
       "\n",
       "\n"
      ],
      "text/plain": [
       "[1]  1  5  9 13"
      ]
     },
     "metadata": {},
     "output_type": "display_data"
    }
   ],
   "source": [
    "seq()\n",
    "seq(1,15)\n",
    "1:15\n",
    "seq(1,15,2)\n",
    "z <- seq(1,15,4)\n",
    "z"
   ]
  },
  {
   "cell_type": "markdown",
   "metadata": {},
   "source": [
    "## Replicate"
   ]
  },
  {
   "cell_type": "code",
   "execution_count": 5,
   "metadata": {},
   "outputs": [
    {
     "data": {
      "text/html": [
       "<ol class=list-inline>\n",
       "\t<li>3</li>\n",
       "\t<li>3</li>\n",
       "\t<li>3</li>\n",
       "\t<li>3</li>\n",
       "\t<li>3</li>\n",
       "\t<li>3</li>\n",
       "\t<li>3</li>\n",
       "\t<li>3</li>\n",
       "\t<li>3</li>\n",
       "\t<li>3</li>\n",
       "\t<li>3</li>\n",
       "\t<li>3</li>\n",
       "\t<li>3</li>\n",
       "\t<li>3</li>\n",
       "\t<li>3</li>\n",
       "\t<li>3</li>\n",
       "\t<li>3</li>\n",
       "\t<li>3</li>\n",
       "\t<li>3</li>\n",
       "\t<li>3</li>\n",
       "\t<li>3</li>\n",
       "\t<li>3</li>\n",
       "\t<li>3</li>\n",
       "\t<li>3</li>\n",
       "\t<li>3</li>\n",
       "\t<li>3</li>\n",
       "\t<li>3</li>\n",
       "\t<li>3</li>\n",
       "\t<li>3</li>\n",
       "\t<li>3</li>\n",
       "\t<li>3</li>\n",
       "\t<li>3</li>\n",
       "\t<li>3</li>\n",
       "\t<li>3</li>\n",
       "\t<li>3</li>\n",
       "\t<li>3</li>\n",
       "\t<li>3</li>\n",
       "\t<li>3</li>\n",
       "\t<li>3</li>\n",
       "\t<li>3</li>\n",
       "\t<li>3</li>\n",
       "\t<li>3</li>\n",
       "\t<li>3</li>\n",
       "\t<li>3</li>\n",
       "\t<li>3</li>\n",
       "\t<li>3</li>\n",
       "\t<li>3</li>\n",
       "\t<li>3</li>\n",
       "\t<li>3</li>\n",
       "\t<li>3</li>\n",
       "</ol>\n"
      ],
      "text/latex": [
       "\\begin{enumerate*}\n",
       "\\item 3\n",
       "\\item 3\n",
       "\\item 3\n",
       "\\item 3\n",
       "\\item 3\n",
       "\\item 3\n",
       "\\item 3\n",
       "\\item 3\n",
       "\\item 3\n",
       "\\item 3\n",
       "\\item 3\n",
       "\\item 3\n",
       "\\item 3\n",
       "\\item 3\n",
       "\\item 3\n",
       "\\item 3\n",
       "\\item 3\n",
       "\\item 3\n",
       "\\item 3\n",
       "\\item 3\n",
       "\\item 3\n",
       "\\item 3\n",
       "\\item 3\n",
       "\\item 3\n",
       "\\item 3\n",
       "\\item 3\n",
       "\\item 3\n",
       "\\item 3\n",
       "\\item 3\n",
       "\\item 3\n",
       "\\item 3\n",
       "\\item 3\n",
       "\\item 3\n",
       "\\item 3\n",
       "\\item 3\n",
       "\\item 3\n",
       "\\item 3\n",
       "\\item 3\n",
       "\\item 3\n",
       "\\item 3\n",
       "\\item 3\n",
       "\\item 3\n",
       "\\item 3\n",
       "\\item 3\n",
       "\\item 3\n",
       "\\item 3\n",
       "\\item 3\n",
       "\\item 3\n",
       "\\item 3\n",
       "\\item 3\n",
       "\\end{enumerate*}\n"
      ],
      "text/markdown": [
       "1. 3\n",
       "2. 3\n",
       "3. 3\n",
       "4. 3\n",
       "5. 3\n",
       "6. 3\n",
       "7. 3\n",
       "8. 3\n",
       "9. 3\n",
       "10. 3\n",
       "11. 3\n",
       "12. 3\n",
       "13. 3\n",
       "14. 3\n",
       "15. 3\n",
       "16. 3\n",
       "17. 3\n",
       "18. 3\n",
       "19. 3\n",
       "20. 3\n",
       "21. 3\n",
       "22. 3\n",
       "23. 3\n",
       "24. 3\n",
       "25. 3\n",
       "26. 3\n",
       "27. 3\n",
       "28. 3\n",
       "29. 3\n",
       "30. 3\n",
       "31. 3\n",
       "32. 3\n",
       "33. 3\n",
       "34. 3\n",
       "35. 3\n",
       "36. 3\n",
       "37. 3\n",
       "38. 3\n",
       "39. 3\n",
       "40. 3\n",
       "41. 3\n",
       "42. 3\n",
       "43. 3\n",
       "44. 3\n",
       "45. 3\n",
       "46. 3\n",
       "47. 3\n",
       "48. 3\n",
       "49. 3\n",
       "50. 3\n",
       "\n",
       "\n"
      ],
      "text/plain": [
       " [1] 3 3 3 3 3 3 3 3 3 3 3 3 3 3 3 3 3 3 3 3 3 3 3 3 3 3 3 3 3 3 3 3 3 3 3 3 3 3\n",
       "[39] 3 3 3 3 3 3 3 3 3 3 3 3"
      ]
     },
     "metadata": {},
     "output_type": "display_data"
    },
    {
     "data": {
      "text/html": [
       "<ol class=list-inline>\n",
       "\t<li>'a'</li>\n",
       "\t<li>'a'</li>\n",
       "\t<li>'a'</li>\n",
       "\t<li>'a'</li>\n",
       "\t<li>'a'</li>\n",
       "</ol>\n"
      ],
      "text/latex": [
       "\\begin{enumerate*}\n",
       "\\item 'a'\n",
       "\\item 'a'\n",
       "\\item 'a'\n",
       "\\item 'a'\n",
       "\\item 'a'\n",
       "\\end{enumerate*}\n"
      ],
      "text/markdown": [
       "1. 'a'\n",
       "2. 'a'\n",
       "3. 'a'\n",
       "4. 'a'\n",
       "5. 'a'\n",
       "\n",
       "\n"
      ],
      "text/plain": [
       "[1] \"a\" \"a\" \"a\" \"a\" \"a\""
      ]
     },
     "metadata": {},
     "output_type": "display_data"
    },
    {
     "data": {
      "text/html": [
       "<ol class=list-inline>\n",
       "\t<li>80</li>\n",
       "\t<li>20</li>\n",
       "\t<li>80</li>\n",
       "\t<li>20</li>\n",
       "\t<li>80</li>\n",
       "\t<li>20</li>\n",
       "\t<li>80</li>\n",
       "\t<li>20</li>\n",
       "\t<li>80</li>\n",
       "\t<li>20</li>\n",
       "\t<li>80</li>\n",
       "\t<li>20</li>\n",
       "\t<li>80</li>\n",
       "\t<li>20</li>\n",
       "\t<li>80</li>\n",
       "\t<li>20</li>\n",
       "\t<li>80</li>\n",
       "\t<li>20</li>\n",
       "\t<li>80</li>\n",
       "\t<li>20</li>\n",
       "</ol>\n"
      ],
      "text/latex": [
       "\\begin{enumerate*}\n",
       "\\item 80\n",
       "\\item 20\n",
       "\\item 80\n",
       "\\item 20\n",
       "\\item 80\n",
       "\\item 20\n",
       "\\item 80\n",
       "\\item 20\n",
       "\\item 80\n",
       "\\item 20\n",
       "\\item 80\n",
       "\\item 20\n",
       "\\item 80\n",
       "\\item 20\n",
       "\\item 80\n",
       "\\item 20\n",
       "\\item 80\n",
       "\\item 20\n",
       "\\item 80\n",
       "\\item 20\n",
       "\\end{enumerate*}\n"
      ],
      "text/markdown": [
       "1. 80\n",
       "2. 20\n",
       "3. 80\n",
       "4. 20\n",
       "5. 80\n",
       "6. 20\n",
       "7. 80\n",
       "8. 20\n",
       "9. 80\n",
       "10. 20\n",
       "11. 80\n",
       "12. 20\n",
       "13. 80\n",
       "14. 20\n",
       "15. 80\n",
       "16. 20\n",
       "17. 80\n",
       "18. 20\n",
       "19. 80\n",
       "20. 20\n",
       "\n",
       "\n"
      ],
      "text/plain": [
       " [1] 80 20 80 20 80 20 80 20 80 20 80 20 80 20 80 20 80 20 80 20"
      ]
     },
     "metadata": {},
     "output_type": "display_data"
    }
   ],
   "source": [
    "rep(3, 50)\n",
    "d <- rep(3, 50)\n",
    "rep(\"a\", 5)\n",
    "\n",
    "x <- c(80,20)\n",
    "y <- rep(x,10)\n",
    "y"
   ]
  },
  {
   "cell_type": "markdown",
   "metadata": {},
   "source": [
    "# Using the [ ] brackets "
   ]
  },
  {
   "cell_type": "code",
   "execution_count": 6,
   "metadata": {},
   "outputs": [
    {
     "data": {
      "text/html": [
       "<ol class=list-inline>\n",
       "\t<li>'a'</li>\n",
       "\t<li>'b'</li>\n",
       "\t<li>'c'</li>\n",
       "\t<li>'d'</li>\n",
       "\t<li>'e'</li>\n",
       "</ol>\n"
      ],
      "text/latex": [
       "\\begin{enumerate*}\n",
       "\\item 'a'\n",
       "\\item 'b'\n",
       "\\item 'c'\n",
       "\\item 'd'\n",
       "\\item 'e'\n",
       "\\end{enumerate*}\n"
      ],
      "text/markdown": [
       "1. 'a'\n",
       "2. 'b'\n",
       "3. 'c'\n",
       "4. 'd'\n",
       "5. 'e'\n",
       "\n",
       "\n"
      ],
      "text/plain": [
       "[1] \"a\" \"b\" \"c\" \"d\" \"e\""
      ]
     },
     "metadata": {},
     "output_type": "display_data"
    },
    {
     "data": {
      "text/html": [
       "'a'"
      ],
      "text/latex": [
       "'a'"
      ],
      "text/markdown": [
       "'a'"
      ],
      "text/plain": [
       "[1] \"a\""
      ]
     },
     "metadata": {},
     "output_type": "display_data"
    },
    {
     "data": {
      "text/html": [
       "'b'"
      ],
      "text/latex": [
       "'b'"
      ],
      "text/markdown": [
       "'b'"
      ],
      "text/plain": [
       "[1] \"b\""
      ]
     },
     "metadata": {},
     "output_type": "display_data"
    },
    {
     "data": {
      "text/html": [
       "'c'"
      ],
      "text/latex": [
       "'c'"
      ],
      "text/markdown": [
       "'c'"
      ],
      "text/plain": [
       "[1] \"c\""
      ]
     },
     "metadata": {},
     "output_type": "display_data"
    },
    {
     "data": {
      "text/html": [
       "<ol class=list-inline>\n",
       "\t<li>'b'</li>\n",
       "\t<li>'c'</li>\n",
       "\t<li>'d'</li>\n",
       "\t<li>'e'</li>\n",
       "</ol>\n"
      ],
      "text/latex": [
       "\\begin{enumerate*}\n",
       "\\item 'b'\n",
       "\\item 'c'\n",
       "\\item 'd'\n",
       "\\item 'e'\n",
       "\\end{enumerate*}\n"
      ],
      "text/markdown": [
       "1. 'b'\n",
       "2. 'c'\n",
       "3. 'd'\n",
       "4. 'e'\n",
       "\n",
       "\n"
      ],
      "text/plain": [
       "[1] \"b\" \"c\" \"d\" \"e\""
      ]
     },
     "metadata": {},
     "output_type": "display_data"
    },
    {
     "data": {
      "text/html": [
       "<ol class=list-inline>\n",
       "\t<li>'a'</li>\n",
       "\t<li>'b'</li>\n",
       "\t<li>'c'</li>\n",
       "</ol>\n"
      ],
      "text/latex": [
       "\\begin{enumerate*}\n",
       "\\item 'a'\n",
       "\\item 'b'\n",
       "\\item 'c'\n",
       "\\end{enumerate*}\n"
      ],
      "text/markdown": [
       "1. 'a'\n",
       "2. 'b'\n",
       "3. 'c'\n",
       "\n",
       "\n"
      ],
      "text/plain": [
       "[1] \"a\" \"b\" \"c\""
      ]
     },
     "metadata": {},
     "output_type": "display_data"
    },
    {
     "data": {
      "text/html": [
       "<ol class=list-inline>\n",
       "\t<li>'c'</li>\n",
       "\t<li>'d'</li>\n",
       "\t<li>'e'</li>\n",
       "</ol>\n"
      ],
      "text/latex": [
       "\\begin{enumerate*}\n",
       "\\item 'c'\n",
       "\\item 'd'\n",
       "\\item 'e'\n",
       "\\end{enumerate*}\n"
      ],
      "text/markdown": [
       "1. 'c'\n",
       "2. 'd'\n",
       "3. 'e'\n",
       "\n",
       "\n"
      ],
      "text/plain": [
       "[1] \"c\" \"d\" \"e\""
      ]
     },
     "metadata": {},
     "output_type": "display_data"
    },
    {
     "data": {
      "text/html": [
       "<ol class=list-inline>\n",
       "\t<li>'a'</li>\n",
       "\t<li>'c'</li>\n",
       "\t<li>'e'</li>\n",
       "</ol>\n"
      ],
      "text/latex": [
       "\\begin{enumerate*}\n",
       "\\item 'a'\n",
       "\\item 'c'\n",
       "\\item 'e'\n",
       "\\end{enumerate*}\n"
      ],
      "text/markdown": [
       "1. 'a'\n",
       "2. 'c'\n",
       "3. 'e'\n",
       "\n",
       "\n"
      ],
      "text/plain": [
       "[1] \"a\" \"c\" \"e\""
      ]
     },
     "metadata": {},
     "output_type": "display_data"
    },
    {
     "data": {
      "text/html": [
       "<ol class=list-inline>\n",
       "\t<li>'a'</li>\n",
       "\t<li>'c'</li>\n",
       "\t<li>'e'</li>\n",
       "</ol>\n"
      ],
      "text/latex": [
       "\\begin{enumerate*}\n",
       "\\item 'a'\n",
       "\\item 'c'\n",
       "\\item 'e'\n",
       "\\end{enumerate*}\n"
      ],
      "text/markdown": [
       "1. 'a'\n",
       "2. 'c'\n",
       "3. 'e'\n",
       "\n",
       "\n"
      ],
      "text/plain": [
       "[1] \"a\" \"c\" \"e\""
      ]
     },
     "metadata": {},
     "output_type": "display_data"
    },
    {
     "data": {
      "text/html": [
       "<ol class=list-inline>\n",
       "\t<li>'a'</li>\n",
       "\t<li>'b'</li>\n",
       "</ol>\n"
      ],
      "text/latex": [
       "\\begin{enumerate*}\n",
       "\\item 'a'\n",
       "\\item 'b'\n",
       "\\end{enumerate*}\n"
      ],
      "text/markdown": [
       "1. 'a'\n",
       "2. 'b'\n",
       "\n",
       "\n"
      ],
      "text/plain": [
       "[1] \"a\" \"b\""
      ]
     },
     "metadata": {},
     "output_type": "display_data"
    },
    {
     "data": {
      "text/html": [
       "<ol class=list-inline>\n",
       "\t<li>'a'</li>\n",
       "\t<li>'b'</li>\n",
       "</ol>\n"
      ],
      "text/latex": [
       "\\begin{enumerate*}\n",
       "\\item 'a'\n",
       "\\item 'b'\n",
       "\\end{enumerate*}\n"
      ],
      "text/markdown": [
       "1. 'a'\n",
       "2. 'b'\n",
       "\n",
       "\n"
      ],
      "text/plain": [
       "[1] \"a\" \"b\""
      ]
     },
     "metadata": {},
     "output_type": "display_data"
    }
   ],
   "source": [
    "x <- c(1,123,534,13,4)  #combine\n",
    "y <- seq(201,250,11)    #sequence\n",
    "z <- rep(\"Hi!\",3)       #replicate\n",
    "\n",
    "w <- c(\"a\", \"b\", \"c\", \"d\", \"e\")\n",
    "w\n",
    "\n",
    "w[1]\n",
    "w[2]\n",
    "w[3]\n",
    "w[-1]\n",
    "v <- w[-3]\n",
    "w[1:3]\n",
    "w[3:5]\n",
    "w[c(1,3,5)]\n",
    "w[c(-2,-4)]\n",
    "w[-3:-5]\n",
    "w[1:2]"
   ]
  },
  {
   "cell_type": "markdown",
   "metadata": {},
   "source": [
    "# The power of vectorized operations"
   ]
  },
  {
   "cell_type": "markdown",
   "metadata": {},
   "source": [
    "## Loops"
   ]
  },
  {
   "cell_type": "code",
   "execution_count": 7,
   "metadata": {},
   "outputs": [
    {
     "data": {
      "text/html": [
       "<ol class=list-inline>\n",
       "\t<li>-0.832502677370403</li>\n",
       "\t<li>1.90696155563437</li>\n",
       "\t<li>0.405887525877824</li>\n",
       "\t<li>-0.472216389782831</li>\n",
       "\t<li>1.36659611278571</li>\n",
       "</ol>\n"
      ],
      "text/latex": [
       "\\begin{enumerate*}\n",
       "\\item -0.832502677370403\n",
       "\\item 1.90696155563437\n",
       "\\item 0.405887525877824\n",
       "\\item -0.472216389782831\n",
       "\\item 1.36659611278571\n",
       "\\end{enumerate*}\n"
      ],
      "text/markdown": [
       "1. -0.832502677370403\n",
       "2. 1.90696155563437\n",
       "3. 0.405887525877824\n",
       "4. -0.472216389782831\n",
       "5. 1.36659611278571\n",
       "\n",
       "\n"
      ],
      "text/plain": [
       "[1] -0.8325027  1.9069616  0.4058875 -0.4722164  1.3665961"
      ]
     },
     "metadata": {},
     "output_type": "display_data"
    }
   ],
   "source": [
    "x <- rnorm(5)\n",
    "x"
   ]
  },
  {
   "cell_type": "markdown",
   "metadata": {},
   "source": [
    "### R-specific programming loop"
   ]
  },
  {
   "cell_type": "code",
   "execution_count": 8,
   "metadata": {},
   "outputs": [
    {
     "name": "stdout",
     "output_type": "stream",
     "text": [
      "[1] -0.8325027\n",
      "[1] 1.906962\n",
      "[1] 0.4058875\n",
      "[1] -0.4722164\n",
      "[1] 1.366596\n"
     ]
    }
   ],
   "source": [
    "for(i in x){\n",
    "  print(i)\n",
    "}"
   ]
  },
  {
   "cell_type": "markdown",
   "metadata": {},
   "source": [
    "### Conventional programming loop"
   ]
  },
  {
   "cell_type": "code",
   "execution_count": 9,
   "metadata": {},
   "outputs": [
    {
     "name": "stdout",
     "output_type": "stream",
     "text": [
      "[1] -0.8325027\n",
      "[1] 1.906962\n",
      "[1] 0.4058875\n",
      "[1] -0.4722164\n",
      "[1] 1.366596\n"
     ]
    }
   ],
   "source": [
    "for(j in 1:5) {\n",
    "  print(x[j])\n",
    "}"
   ]
  },
  {
   "cell_type": "markdown",
   "metadata": {},
   "source": [
    "## Operations"
   ]
  },
  {
   "cell_type": "code",
   "execution_count": 10,
   "metadata": {},
   "outputs": [],
   "source": [
    "N <- 10\n",
    "a <- rnorm(N)\n",
    "b <- rnorm(N)"
   ]
  },
  {
   "cell_type": "markdown",
   "metadata": {},
   "source": [
    "### Vectorized approach"
   ]
  },
  {
   "cell_type": "code",
   "execution_count": 11,
   "metadata": {},
   "outputs": [
    {
     "data": {
      "text/html": [
       "<ol class=list-inline>\n",
       "\t<li>0.0654160857621498</li>\n",
       "\t<li>-1.50372499762017</li>\n",
       "\t<li>1.19901820725549</li>\n",
       "\t<li>0.0390266242129177</li>\n",
       "\t<li>-0.649332386584129</li>\n",
       "\t<li>-0.320875719611208</li>\n",
       "\t<li>-2.29720948668406</li>\n",
       "\t<li>1.63376517980806</li>\n",
       "\t<li>1.5205324584113</li>\n",
       "\t<li>-0.0388833478984844</li>\n",
       "</ol>\n"
      ],
      "text/latex": [
       "\\begin{enumerate*}\n",
       "\\item 0.0654160857621498\n",
       "\\item -1.50372499762017\n",
       "\\item 1.19901820725549\n",
       "\\item 0.0390266242129177\n",
       "\\item -0.649332386584129\n",
       "\\item -0.320875719611208\n",
       "\\item -2.29720948668406\n",
       "\\item 1.63376517980806\n",
       "\\item 1.5205324584113\n",
       "\\item -0.0388833478984844\n",
       "\\end{enumerate*}\n"
      ],
      "text/markdown": [
       "1. 0.0654160857621498\n",
       "2. -1.50372499762017\n",
       "3. 1.19901820725549\n",
       "4. 0.0390266242129177\n",
       "5. -0.649332386584129\n",
       "6. -0.320875719611208\n",
       "7. -2.29720948668406\n",
       "8. 1.63376517980806\n",
       "9. 1.5205324584113\n",
       "10. -0.0388833478984844\n",
       "\n",
       "\n"
      ],
      "text/plain": [
       " [1]  0.06541609 -1.50372500  1.19901821  0.03902662 -0.64933239 -0.32087572\n",
       " [7] -2.29720949  1.63376518  1.52053246 -0.03888335"
      ]
     },
     "metadata": {},
     "output_type": "display_data"
    }
   ],
   "source": [
    "c <- a * b\n",
    "c"
   ]
  },
  {
   "cell_type": "markdown",
   "metadata": {},
   "source": [
    "## De-vectorized approach"
   ]
  },
  {
   "cell_type": "code",
   "execution_count": 12,
   "metadata": {},
   "outputs": [
    {
     "data": {
      "text/html": [
       "<ol class=list-inline>\n",
       "\t<li>0.0654160857621498</li>\n",
       "\t<li>-1.50372499762017</li>\n",
       "\t<li>1.19901820725549</li>\n",
       "\t<li>0.0390266242129177</li>\n",
       "\t<li>-0.649332386584129</li>\n",
       "\t<li>-0.320875719611208</li>\n",
       "\t<li>-2.29720948668406</li>\n",
       "\t<li>1.63376517980806</li>\n",
       "\t<li>1.5205324584113</li>\n",
       "\t<li>-0.0388833478984844</li>\n",
       "</ol>\n"
      ],
      "text/latex": [
       "\\begin{enumerate*}\n",
       "\\item 0.0654160857621498\n",
       "\\item -1.50372499762017\n",
       "\\item 1.19901820725549\n",
       "\\item 0.0390266242129177\n",
       "\\item -0.649332386584129\n",
       "\\item -0.320875719611208\n",
       "\\item -2.29720948668406\n",
       "\\item 1.63376517980806\n",
       "\\item 1.5205324584113\n",
       "\\item -0.0388833478984844\n",
       "\\end{enumerate*}\n"
      ],
      "text/markdown": [
       "1. 0.0654160857621498\n",
       "2. -1.50372499762017\n",
       "3. 1.19901820725549\n",
       "4. 0.0390266242129177\n",
       "5. -0.649332386584129\n",
       "6. -0.320875719611208\n",
       "7. -2.29720948668406\n",
       "8. 1.63376517980806\n",
       "9. 1.5205324584113\n",
       "10. -0.0388833478984844\n",
       "\n",
       "\n"
      ],
      "text/plain": [
       " [1]  0.06541609 -1.50372500  1.19901821  0.03902662 -0.64933239 -0.32087572\n",
       " [7] -2.29720949  1.63376518  1.52053246 -0.03888335"
      ]
     },
     "metadata": {},
     "output_type": "display_data"
    }
   ],
   "source": [
    "d <- rep(NA,N)\n",
    "for(i in 1:N) {\n",
    "  d[i] <- a[i] * b[i]\n",
    "}\n",
    "d"
   ]
  },
  {
   "cell_type": "markdown",
   "metadata": {},
   "source": [
    "# Functions in R"
   ]
  },
  {
   "cell_type": "markdown",
   "metadata": {},
   "source": [
    "## Named arguments"
   ]
  },
  {
   "cell_type": "code",
   "execution_count": 13,
   "metadata": {},
   "outputs": [
    {
     "data": {
      "text/html": [
       "<ol class=list-inline>\n",
       "\t<li>-11.1883150853914</li>\n",
       "\t<li>11.4018959553716</li>\n",
       "\t<li>-2.62304003791145</li>\n",
       "\t<li>-12.922546739368</li>\n",
       "\t<li>2.46580460307791</li>\n",
       "</ol>\n"
      ],
      "text/latex": [
       "\\begin{enumerate*}\n",
       "\\item -11.1883150853914\n",
       "\\item 11.4018959553716\n",
       "\\item -2.62304003791145\n",
       "\\item -12.922546739368\n",
       "\\item 2.46580460307791\n",
       "\\end{enumerate*}\n"
      ],
      "text/markdown": [
       "1. -11.1883150853914\n",
       "2. 11.4018959553716\n",
       "3. -2.62304003791145\n",
       "4. -12.922546739368\n",
       "5. 2.46580460307791\n",
       "\n",
       "\n"
      ],
      "text/plain": [
       "[1] -11.188315  11.401896  -2.623040 -12.922547   2.465805"
      ]
     },
     "metadata": {},
     "output_type": "display_data"
    }
   ],
   "source": [
    "rnorm(n = 5, sd = 8)"
   ]
  },
  {
   "cell_type": "markdown",
   "metadata": {},
   "source": [
    "## Alternative arguments"
   ]
  },
  {
   "cell_type": "code",
   "execution_count": 14,
   "metadata": {},
   "outputs": [
    {
     "data": {
      "text/html": [
       "<ol class=list-inline>\n",
       "\t<li>10</li>\n",
       "\t<li>10.2</li>\n",
       "\t<li>10.4</li>\n",
       "\t<li>10.6</li>\n",
       "\t<li>10.8</li>\n",
       "\t<li>11</li>\n",
       "\t<li>11.2</li>\n",
       "\t<li>11.4</li>\n",
       "\t<li>11.6</li>\n",
       "\t<li>11.8</li>\n",
       "\t<li>12</li>\n",
       "\t<li>12.2</li>\n",
       "\t<li>12.4</li>\n",
       "\t<li>12.6</li>\n",
       "\t<li>12.8</li>\n",
       "\t<li>13</li>\n",
       "\t<li>13.2</li>\n",
       "\t<li>13.4</li>\n",
       "\t<li>13.6</li>\n",
       "\t<li>13.8</li>\n",
       "\t<li>14</li>\n",
       "\t<li>14.2</li>\n",
       "\t<li>14.4</li>\n",
       "\t<li>14.6</li>\n",
       "\t<li>14.8</li>\n",
       "\t<li>15</li>\n",
       "\t<li>15.2</li>\n",
       "\t<li>15.4</li>\n",
       "\t<li>15.6</li>\n",
       "\t<li>15.8</li>\n",
       "\t<li>16</li>\n",
       "\t<li>16.2</li>\n",
       "\t<li>16.4</li>\n",
       "\t<li>16.6</li>\n",
       "\t<li>16.8</li>\n",
       "\t<li>17</li>\n",
       "\t<li>17.2</li>\n",
       "\t<li>17.4</li>\n",
       "\t<li>17.6</li>\n",
       "\t<li>17.8</li>\n",
       "\t<li>18</li>\n",
       "\t<li>18.2</li>\n",
       "\t<li>18.4</li>\n",
       "\t<li>18.6</li>\n",
       "\t<li>18.8</li>\n",
       "\t<li>19</li>\n",
       "\t<li>19.2</li>\n",
       "\t<li>19.4</li>\n",
       "\t<li>19.6</li>\n",
       "\t<li>19.8</li>\n",
       "\t<li>20</li>\n",
       "</ol>\n"
      ],
      "text/latex": [
       "\\begin{enumerate*}\n",
       "\\item 10\n",
       "\\item 10.2\n",
       "\\item 10.4\n",
       "\\item 10.6\n",
       "\\item 10.8\n",
       "\\item 11\n",
       "\\item 11.2\n",
       "\\item 11.4\n",
       "\\item 11.6\n",
       "\\item 11.8\n",
       "\\item 12\n",
       "\\item 12.2\n",
       "\\item 12.4\n",
       "\\item 12.6\n",
       "\\item 12.8\n",
       "\\item 13\n",
       "\\item 13.2\n",
       "\\item 13.4\n",
       "\\item 13.6\n",
       "\\item 13.8\n",
       "\\item 14\n",
       "\\item 14.2\n",
       "\\item 14.4\n",
       "\\item 14.6\n",
       "\\item 14.8\n",
       "\\item 15\n",
       "\\item 15.2\n",
       "\\item 15.4\n",
       "\\item 15.6\n",
       "\\item 15.8\n",
       "\\item 16\n",
       "\\item 16.2\n",
       "\\item 16.4\n",
       "\\item 16.6\n",
       "\\item 16.8\n",
       "\\item 17\n",
       "\\item 17.2\n",
       "\\item 17.4\n",
       "\\item 17.6\n",
       "\\item 17.8\n",
       "\\item 18\n",
       "\\item 18.2\n",
       "\\item 18.4\n",
       "\\item 18.6\n",
       "\\item 18.8\n",
       "\\item 19\n",
       "\\item 19.2\n",
       "\\item 19.4\n",
       "\\item 19.6\n",
       "\\item 19.8\n",
       "\\item 20\n",
       "\\end{enumerate*}\n"
      ],
      "text/markdown": [
       "1. 10\n",
       "2. 10.2\n",
       "3. 10.4\n",
       "4. 10.6\n",
       "5. 10.8\n",
       "6. 11\n",
       "7. 11.2\n",
       "8. 11.4\n",
       "9. 11.6\n",
       "10. 11.8\n",
       "11. 12\n",
       "12. 12.2\n",
       "13. 12.4\n",
       "14. 12.6\n",
       "15. 12.8\n",
       "16. 13\n",
       "17. 13.2\n",
       "18. 13.4\n",
       "19. 13.6\n",
       "20. 13.8\n",
       "21. 14\n",
       "22. 14.2\n",
       "23. 14.4\n",
       "24. 14.6\n",
       "25. 14.8\n",
       "26. 15\n",
       "27. 15.2\n",
       "28. 15.4\n",
       "29. 15.6\n",
       "30. 15.8\n",
       "31. 16\n",
       "32. 16.2\n",
       "33. 16.4\n",
       "34. 16.6\n",
       "35. 16.8\n",
       "36. 17\n",
       "37. 17.2\n",
       "38. 17.4\n",
       "39. 17.6\n",
       "40. 17.8\n",
       "41. 18\n",
       "42. 18.2\n",
       "43. 18.4\n",
       "44. 18.6\n",
       "45. 18.8\n",
       "46. 19\n",
       "47. 19.2\n",
       "48. 19.4\n",
       "49. 19.6\n",
       "50. 19.8\n",
       "51. 20\n",
       "\n",
       "\n"
      ],
      "text/plain": [
       " [1] 10.0 10.2 10.4 10.6 10.8 11.0 11.2 11.4 11.6 11.8 12.0 12.2 12.4 12.6 12.8\n",
       "[16] 13.0 13.2 13.4 13.6 13.8 14.0 14.2 14.4 14.6 14.8 15.0 15.2 15.4 15.6 15.8\n",
       "[31] 16.0 16.2 16.4 16.6 16.8 17.0 17.2 17.4 17.6 17.8 18.0 18.2 18.4 18.6 18.8\n",
       "[46] 19.0 19.2 19.4 19.6 19.8 20.0"
      ]
     },
     "metadata": {},
     "output_type": "display_data"
    },
    {
     "data": {
      "text/html": [
       "<ol class=list-inline>\n",
       "\t<li>1</li>\n",
       "\t<li>1</li>\n",
       "\t<li>1</li>\n",
       "\t<li>1</li>\n",
       "\t<li>1</li>\n",
       "\t<li>2</li>\n",
       "\t<li>2</li>\n",
       "\t<li>2</li>\n",
       "\t<li>2</li>\n",
       "\t<li>2</li>\n",
       "\t<li>3</li>\n",
       "\t<li>3</li>\n",
       "\t<li>3</li>\n",
       "\t<li>3</li>\n",
       "\t<li>3</li>\n",
       "</ol>\n"
      ],
      "text/latex": [
       "\\begin{enumerate*}\n",
       "\\item 1\n",
       "\\item 1\n",
       "\\item 1\n",
       "\\item 1\n",
       "\\item 1\n",
       "\\item 2\n",
       "\\item 2\n",
       "\\item 2\n",
       "\\item 2\n",
       "\\item 2\n",
       "\\item 3\n",
       "\\item 3\n",
       "\\item 3\n",
       "\\item 3\n",
       "\\item 3\n",
       "\\end{enumerate*}\n"
      ],
      "text/markdown": [
       "1. 1\n",
       "2. 1\n",
       "3. 1\n",
       "4. 1\n",
       "5. 1\n",
       "6. 2\n",
       "7. 2\n",
       "8. 2\n",
       "9. 2\n",
       "10. 2\n",
       "11. 3\n",
       "12. 3\n",
       "13. 3\n",
       "14. 3\n",
       "15. 3\n",
       "\n",
       "\n"
      ],
      "text/plain": [
       " [1] 1 1 1 1 1 2 2 2 2 2 3 3 3 3 3"
      ]
     },
     "metadata": {},
     "output_type": "display_data"
    }
   ],
   "source": [
    "seq(from = 10, to = 20, length.out = 51)\n",
    "rep(1:3, each = 5)"
   ]
  },
  {
   "cell_type": "markdown",
   "metadata": {},
   "source": [
    "## Vector arguments"
   ]
  },
  {
   "cell_type": "code",
   "execution_count": 15,
   "metadata": {},
   "outputs": [
    {
     "data": {
      "text/html": [
       "<ol class=list-inline>\n",
       "\t<li>3.16227766016838</li>\n",
       "\t<li>3.19374388453426</li>\n",
       "\t<li>3.22490309931942</li>\n",
       "\t<li>3.25576411921994</li>\n",
       "\t<li>3.286335345031</li>\n",
       "\t<li>3.3166247903554</li>\n",
       "\t<li>3.3466401061363</li>\n",
       "\t<li>3.37638860322683</li>\n",
       "\t<li>3.40587727318528</li>\n",
       "\t<li>3.43511280746353</li>\n",
       "\t<li>3.46410161513775</li>\n",
       "\t<li>3.4928498393146</li>\n",
       "\t<li>3.5213633723318</li>\n",
       "\t<li>3.54964786985977</li>\n",
       "\t<li>3.57770876399966</li>\n",
       "\t<li>3.60555127546399</li>\n",
       "\t<li>3.63318042491699</li>\n",
       "\t<li>3.66060104354463</li>\n",
       "\t<li>3.68781778291716</li>\n",
       "\t<li>3.71483512420134</li>\n",
       "\t<li>3.74165738677394</li>\n",
       "\t<li>3.76828873628335</li>\n",
       "\t<li>3.79473319220206</li>\n",
       "\t<li>3.82099463490856</li>\n",
       "\t<li>3.84707681233427</li>\n",
       "\t<li>3.87298334620742</li>\n",
       "\t<li>3.89871773792359</li>\n",
       "\t<li>3.92428337406972</li>\n",
       "\t<li>3.9496835316263</li>\n",
       "\t<li>3.97492138287036</li>\n",
       "\t<li>4</li>\n",
       "\t<li>4.02492235949962</li>\n",
       "\t<li>4.04969134626332</li>\n",
       "\t<li>4.07430975749267</li>\n",
       "\t<li>4.09878030638384</li>\n",
       "\t<li>4.12310562561766</li>\n",
       "\t<li>4.14728827066554</li>\n",
       "\t<li>4.17133072292284</li>\n",
       "\t<li>4.19523539268061</li>\n",
       "\t<li>4.2190046219458</li>\n",
       "\t<li>4.24264068711928</li>\n",
       "\t<li>4.26614580154031</li>\n",
       "\t<li>4.28952211790544</li>\n",
       "\t<li>4.31277173056957</li>\n",
       "\t<li>4.33589667773576</li>\n",
       "\t<li>4.35889894354067</li>\n",
       "\t<li>4.38178046004133</li>\n",
       "\t<li>4.40454310910905</li>\n",
       "\t<li>4.42718872423573</li>\n",
       "\t<li>4.4497190922574</li>\n",
       "\t<li>4.47213595499958</li>\n",
       "</ol>\n"
      ],
      "text/latex": [
       "\\begin{enumerate*}\n",
       "\\item 3.16227766016838\n",
       "\\item 3.19374388453426\n",
       "\\item 3.22490309931942\n",
       "\\item 3.25576411921994\n",
       "\\item 3.286335345031\n",
       "\\item 3.3166247903554\n",
       "\\item 3.3466401061363\n",
       "\\item 3.37638860322683\n",
       "\\item 3.40587727318528\n",
       "\\item 3.43511280746353\n",
       "\\item 3.46410161513775\n",
       "\\item 3.4928498393146\n",
       "\\item 3.5213633723318\n",
       "\\item 3.54964786985977\n",
       "\\item 3.57770876399966\n",
       "\\item 3.60555127546399\n",
       "\\item 3.63318042491699\n",
       "\\item 3.66060104354463\n",
       "\\item 3.68781778291716\n",
       "\\item 3.71483512420134\n",
       "\\item 3.74165738677394\n",
       "\\item 3.76828873628335\n",
       "\\item 3.79473319220206\n",
       "\\item 3.82099463490856\n",
       "\\item 3.84707681233427\n",
       "\\item 3.87298334620742\n",
       "\\item 3.89871773792359\n",
       "\\item 3.92428337406972\n",
       "\\item 3.9496835316263\n",
       "\\item 3.97492138287036\n",
       "\\item 4\n",
       "\\item 4.02492235949962\n",
       "\\item 4.04969134626332\n",
       "\\item 4.07430975749267\n",
       "\\item 4.09878030638384\n",
       "\\item 4.12310562561766\n",
       "\\item 4.14728827066554\n",
       "\\item 4.17133072292284\n",
       "\\item 4.19523539268061\n",
       "\\item 4.2190046219458\n",
       "\\item 4.24264068711928\n",
       "\\item 4.26614580154031\n",
       "\\item 4.28952211790544\n",
       "\\item 4.31277173056957\n",
       "\\item 4.33589667773576\n",
       "\\item 4.35889894354067\n",
       "\\item 4.38178046004133\n",
       "\\item 4.40454310910905\n",
       "\\item 4.42718872423573\n",
       "\\item 4.4497190922574\n",
       "\\item 4.47213595499958\n",
       "\\end{enumerate*}\n"
      ],
      "text/markdown": [
       "1. 3.16227766016838\n",
       "2. 3.19374388453426\n",
       "3. 3.22490309931942\n",
       "4. 3.25576411921994\n",
       "5. 3.286335345031\n",
       "6. 3.3166247903554\n",
       "7. 3.3466401061363\n",
       "8. 3.37638860322683\n",
       "9. 3.40587727318528\n",
       "10. 3.43511280746353\n",
       "11. 3.46410161513775\n",
       "12. 3.4928498393146\n",
       "13. 3.5213633723318\n",
       "14. 3.54964786985977\n",
       "15. 3.57770876399966\n",
       "16. 3.60555127546399\n",
       "17. 3.63318042491699\n",
       "18. 3.66060104354463\n",
       "19. 3.68781778291716\n",
       "20. 3.71483512420134\n",
       "21. 3.74165738677394\n",
       "22. 3.76828873628335\n",
       "23. 3.79473319220206\n",
       "24. 3.82099463490856\n",
       "25. 3.84707681233427\n",
       "26. 3.87298334620742\n",
       "27. 3.89871773792359\n",
       "28. 3.92428337406972\n",
       "29. 3.9496835316263\n",
       "30. 3.97492138287036\n",
       "31. 4\n",
       "32. 4.02492235949962\n",
       "33. 4.04969134626332\n",
       "34. 4.07430975749267\n",
       "35. 4.09878030638384\n",
       "36. 4.12310562561766\n",
       "37. 4.14728827066554\n",
       "38. 4.17133072292284\n",
       "39. 4.19523539268061\n",
       "40. 4.2190046219458\n",
       "41. 4.24264068711928\n",
       "42. 4.26614580154031\n",
       "43. 4.28952211790544\n",
       "44. 4.31277173056957\n",
       "45. 4.33589667773576\n",
       "46. 4.35889894354067\n",
       "47. 4.38178046004133\n",
       "48. 4.40454310910905\n",
       "49. 4.42718872423573\n",
       "50. 4.4497190922574\n",
       "51. 4.47213595499958\n",
       "\n",
       "\n"
      ],
      "text/plain": [
       " [1] 3.162278 3.193744 3.224903 3.255764 3.286335 3.316625 3.346640 3.376389\n",
       " [9] 3.405877 3.435113 3.464102 3.492850 3.521363 3.549648 3.577709 3.605551\n",
       "[17] 3.633180 3.660601 3.687818 3.714835 3.741657 3.768289 3.794733 3.820995\n",
       "[25] 3.847077 3.872983 3.898718 3.924283 3.949684 3.974921 4.000000 4.024922\n",
       "[33] 4.049691 4.074310 4.098780 4.123106 4.147288 4.171331 4.195235 4.219005\n",
       "[41] 4.242641 4.266146 4.289522 4.312772 4.335897 4.358899 4.381780 4.404543\n",
       "[49] 4.427189 4.449719 4.472136"
      ]
     },
     "metadata": {},
     "output_type": "display_data"
    }
   ],
   "source": [
    "A <- seq(from = 10, to = 20, length.out = 51)\n",
    "B <- sqrt(A)\n",
    "B"
   ]
  },
  {
   "cell_type": "code",
   "execution_count": null,
   "metadata": {},
   "outputs": [],
   "source": []
  }
 ],
 "metadata": {
  "kernelspec": {
   "display_name": "R",
   "language": "R",
   "name": "r"
  },
  "language_info": {
   "codemirror_mode": "r",
   "file_extension": ".r",
   "mimetype": "text/x-r-source",
   "name": "R",
   "pygments_lexer": "r",
   "version": "3.4.1"
  }
 },
 "nbformat": 4,
 "nbformat_minor": 2
}
