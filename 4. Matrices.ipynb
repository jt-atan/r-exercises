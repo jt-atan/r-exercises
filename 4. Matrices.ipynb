{
 "cells": [
  {
   "cell_type": "markdown",
   "metadata": {
    "collapsed": true
   },
   "source": [
    "# Build your first matrix"
   ]
  },
  {
   "cell_type": "markdown",
   "metadata": {},
   "source": [
    "## matrix"
   ]
  },
  {
   "cell_type": "code",
   "execution_count": 1,
   "metadata": {},
   "outputs": [
    {
     "data": {
      "text/html": [
       "<ol class=list-inline>\n",
       "\t<li>1</li>\n",
       "\t<li>2</li>\n",
       "\t<li>3</li>\n",
       "\t<li>4</li>\n",
       "\t<li>5</li>\n",
       "\t<li>6</li>\n",
       "\t<li>7</li>\n",
       "\t<li>8</li>\n",
       "\t<li>9</li>\n",
       "\t<li>10</li>\n",
       "\t<li>11</li>\n",
       "\t<li>12</li>\n",
       "\t<li>13</li>\n",
       "\t<li>14</li>\n",
       "\t<li>15</li>\n",
       "\t<li>16</li>\n",
       "\t<li>17</li>\n",
       "\t<li>18</li>\n",
       "\t<li>19</li>\n",
       "\t<li>20</li>\n",
       "</ol>\n"
      ],
      "text/latex": [
       "\\begin{enumerate*}\n",
       "\\item 1\n",
       "\\item 2\n",
       "\\item 3\n",
       "\\item 4\n",
       "\\item 5\n",
       "\\item 6\n",
       "\\item 7\n",
       "\\item 8\n",
       "\\item 9\n",
       "\\item 10\n",
       "\\item 11\n",
       "\\item 12\n",
       "\\item 13\n",
       "\\item 14\n",
       "\\item 15\n",
       "\\item 16\n",
       "\\item 17\n",
       "\\item 18\n",
       "\\item 19\n",
       "\\item 20\n",
       "\\end{enumerate*}\n"
      ],
      "text/markdown": [
       "1. 1\n",
       "2. 2\n",
       "3. 3\n",
       "4. 4\n",
       "5. 5\n",
       "6. 6\n",
       "7. 7\n",
       "8. 8\n",
       "9. 9\n",
       "10. 10\n",
       "11. 11\n",
       "12. 12\n",
       "13. 13\n",
       "14. 14\n",
       "15. 15\n",
       "16. 16\n",
       "17. 17\n",
       "18. 18\n",
       "19. 19\n",
       "20. 20\n",
       "\n",
       "\n"
      ],
      "text/plain": [
       " [1]  1  2  3  4  5  6  7  8  9 10 11 12 13 14 15 16 17 18 19 20"
      ]
     },
     "metadata": {},
     "output_type": "display_data"
    },
    {
     "data": {
      "text/html": [
       "<table>\n",
       "<tbody>\n",
       "\t<tr><td>1 </td><td>5 </td><td> 9</td><td>13</td><td>17</td></tr>\n",
       "\t<tr><td>2 </td><td>6 </td><td>10</td><td>14</td><td>18</td></tr>\n",
       "\t<tr><td>3 </td><td>7 </td><td>11</td><td>15</td><td>19</td></tr>\n",
       "\t<tr><td>4 </td><td>8 </td><td>12</td><td>16</td><td>20</td></tr>\n",
       "</tbody>\n",
       "</table>\n"
      ],
      "text/latex": [
       "\\begin{tabular}{lllll}\n",
       "\t 1  & 5  &  9 & 13 & 17\\\\\n",
       "\t 2  & 6  & 10 & 14 & 18\\\\\n",
       "\t 3  & 7  & 11 & 15 & 19\\\\\n",
       "\t 4  & 8  & 12 & 16 & 20\\\\\n",
       "\\end{tabular}\n"
      ],
      "text/markdown": [
       "\n",
       "| 1  | 5  |  9 | 13 | 17 | \n",
       "| 2  | 6  | 10 | 14 | 18 | \n",
       "| 3  | 7  | 11 | 15 | 19 | \n",
       "| 4  | 8  | 12 | 16 | 20 | \n",
       "\n",
       "\n"
      ],
      "text/plain": [
       "     [,1] [,2] [,3] [,4] [,5]\n",
       "[1,] 1    5     9   13   17  \n",
       "[2,] 2    6    10   14   18  \n",
       "[3,] 3    7    11   15   19  \n",
       "[4,] 4    8    12   16   20  "
      ]
     },
     "metadata": {},
     "output_type": "display_data"
    },
    {
     "data": {
      "text/html": [
       "10"
      ],
      "text/latex": [
       "10"
      ],
      "text/markdown": [
       "10"
      ],
      "text/plain": [
       "[1] 10"
      ]
     },
     "metadata": {},
     "output_type": "display_data"
    },
    {
     "data": {
      "text/html": [
       "<table>\n",
       "<tbody>\n",
       "\t<tr><td> 1</td><td> 2</td><td> 3</td><td> 4</td><td> 5</td></tr>\n",
       "\t<tr><td> 6</td><td> 7</td><td> 8</td><td> 9</td><td>10</td></tr>\n",
       "\t<tr><td>11</td><td>12</td><td>13</td><td>14</td><td>15</td></tr>\n",
       "\t<tr><td>16</td><td>17</td><td>18</td><td>19</td><td>20</td></tr>\n",
       "</tbody>\n",
       "</table>\n"
      ],
      "text/latex": [
       "\\begin{tabular}{lllll}\n",
       "\t  1 &  2 &  3 &  4 &  5\\\\\n",
       "\t  6 &  7 &  8 &  9 & 10\\\\\n",
       "\t 11 & 12 & 13 & 14 & 15\\\\\n",
       "\t 16 & 17 & 18 & 19 & 20\\\\\n",
       "\\end{tabular}\n"
      ],
      "text/markdown": [
       "\n",
       "|  1 |  2 |  3 |  4 |  5 | \n",
       "|  6 |  7 |  8 |  9 | 10 | \n",
       "| 11 | 12 | 13 | 14 | 15 | \n",
       "| 16 | 17 | 18 | 19 | 20 | \n",
       "\n",
       "\n"
      ],
      "text/plain": [
       "     [,1] [,2] [,3] [,4] [,5]\n",
       "[1,]  1    2    3    4    5  \n",
       "[2,]  6    7    8    9   10  \n",
       "[3,] 11   12   13   14   15  \n",
       "[4,] 16   17   18   19   20  "
      ]
     },
     "metadata": {},
     "output_type": "display_data"
    },
    {
     "data": {
      "text/html": [
       "10"
      ],
      "text/latex": [
       "10"
      ],
      "text/markdown": [
       "10"
      ],
      "text/plain": [
       "[1] 10"
      ]
     },
     "metadata": {},
     "output_type": "display_data"
    }
   ],
   "source": [
    "my.data <- 1:20\n",
    "my.data\n",
    "\n",
    "A <- matrix(my.data, 4, 5)\n",
    "A\n",
    "A[2,3]\n",
    "\n",
    "B <- matrix(my.data, 4, 5, byrow = T)\n",
    "B\n",
    "B[2,5]"
   ]
  },
  {
   "cell_type": "markdown",
   "metadata": {},
   "source": [
    "## rbind"
   ]
  },
  {
   "cell_type": "code",
   "execution_count": 2,
   "metadata": {},
   "outputs": [
    {
     "data": {
      "text/html": [
       "<table>\n",
       "<tbody>\n",
       "\t<tr><th scope=row>r1</th><td>I    </td><td>am   </td><td>happy</td></tr>\n",
       "\t<tr><th scope=row>r2</th><td>What </td><td>a    </td><td>day  </td></tr>\n",
       "\t<tr><th scope=row>r3</th><td>1    </td><td>2    </td><td>3    </td></tr>\n",
       "</tbody>\n",
       "</table>\n"
      ],
      "text/latex": [
       "\\begin{tabular}{r|lll}\n",
       "\tr1 & I     & am    & happy\\\\\n",
       "\tr2 & What  & a     & day  \\\\\n",
       "\tr3 & 1     & 2     & 3    \\\\\n",
       "\\end{tabular}\n"
      ],
      "text/markdown": [
       "\n",
       "| r1 | I     | am    | happy | \n",
       "| r2 | What  | a     | day   | \n",
       "| r3 | 1     | 2     | 3     | \n",
       "\n",
       "\n"
      ],
      "text/plain": [
       "   [,1] [,2] [,3] \n",
       "r1 I    am   happy\n",
       "r2 What a    day  \n",
       "r3 1    2    3    "
      ]
     },
     "metadata": {},
     "output_type": "display_data"
    }
   ],
   "source": [
    "#rbind()\n",
    "r1 <- c(\"I\", \"am\", \"happy\")\n",
    "r2 <- c(\"What\", \"a\", \"day\")\n",
    "r3 <- c(1, 2, 3)\n",
    "C <- rbind(r1, r2, r3)\n",
    "C"
   ]
  },
  {
   "cell_type": "markdown",
   "metadata": {},
   "source": [
    "## cbind"
   ]
  },
  {
   "cell_type": "code",
   "execution_count": 3,
   "metadata": {},
   "outputs": [
    {
     "data": {
      "text/html": [
       "<table>\n",
       "<thead><tr><th scope=col>c1</th><th scope=col>c2</th></tr></thead>\n",
       "<tbody>\n",
       "\t<tr><td>1 </td><td>-1</td></tr>\n",
       "\t<tr><td>2 </td><td>-2</td></tr>\n",
       "\t<tr><td>3 </td><td>-3</td></tr>\n",
       "\t<tr><td>4 </td><td>-4</td></tr>\n",
       "\t<tr><td>5 </td><td>-5</td></tr>\n",
       "</tbody>\n",
       "</table>\n"
      ],
      "text/latex": [
       "\\begin{tabular}{ll}\n",
       " c1 & c2\\\\\n",
       "\\hline\n",
       "\t 1  & -1\\\\\n",
       "\t 2  & -2\\\\\n",
       "\t 3  & -3\\\\\n",
       "\t 4  & -4\\\\\n",
       "\t 5  & -5\\\\\n",
       "\\end{tabular}\n"
      ],
      "text/markdown": [
       "\n",
       "c1 | c2 | \n",
       "|---|---|---|---|---|\n",
       "| 1  | -1 | \n",
       "| 2  | -2 | \n",
       "| 3  | -3 | \n",
       "| 4  | -4 | \n",
       "| 5  | -5 | \n",
       "\n",
       "\n"
      ],
      "text/plain": [
       "     c1 c2\n",
       "[1,] 1  -1\n",
       "[2,] 2  -2\n",
       "[3,] 3  -3\n",
       "[4,] 4  -4\n",
       "[5,] 5  -5"
      ]
     },
     "metadata": {},
     "output_type": "display_data"
    }
   ],
   "source": [
    "c1 <- 1:5\n",
    "c2 <- -1:-5\n",
    "D <- cbind(c1, c2)\n",
    "D"
   ]
  },
  {
   "cell_type": "markdown",
   "metadata": {},
   "source": [
    "# Colnames and Rownames"
   ]
  },
  {
   "cell_type": "markdown",
   "metadata": {},
   "source": [
    "## Named Vectors"
   ]
  },
  {
   "cell_type": "code",
   "execution_count": 4,
   "metadata": {},
   "outputs": [
    {
     "data": {
      "text/html": [
       "<ol class=list-inline>\n",
       "\t<li>1</li>\n",
       "\t<li>2</li>\n",
       "\t<li>3</li>\n",
       "\t<li>4</li>\n",
       "\t<li>5</li>\n",
       "</ol>\n"
      ],
      "text/latex": [
       "\\begin{enumerate*}\n",
       "\\item 1\n",
       "\\item 2\n",
       "\\item 3\n",
       "\\item 4\n",
       "\\item 5\n",
       "\\end{enumerate*}\n"
      ],
      "text/markdown": [
       "1. 1\n",
       "2. 2\n",
       "3. 3\n",
       "4. 4\n",
       "5. 5\n",
       "\n",
       "\n"
      ],
      "text/plain": [
       "[1] 1 2 3 4 5"
      ]
     },
     "metadata": {},
     "output_type": "display_data"
    }
   ],
   "source": [
    "Charlie <- 1:5;\n",
    "Charlie"
   ]
  },
  {
   "cell_type": "markdown",
   "metadata": {},
   "source": [
    "### Give names"
   ]
  },
  {
   "cell_type": "code",
   "execution_count": 5,
   "metadata": {},
   "outputs": [
    {
     "data": {
      "text/html": [
       "<dl class=dl-horizontal>\n",
       "\t<dt>a</dt>\n",
       "\t\t<dd>1</dd>\n",
       "\t<dt>b</dt>\n",
       "\t\t<dd>2</dd>\n",
       "\t<dt>c</dt>\n",
       "\t\t<dd>3</dd>\n",
       "\t<dt>d</dt>\n",
       "\t\t<dd>4</dd>\n",
       "\t<dt>e</dt>\n",
       "\t\t<dd>5</dd>\n",
       "</dl>\n"
      ],
      "text/latex": [
       "\\begin{description*}\n",
       "\\item[a] 1\n",
       "\\item[b] 2\n",
       "\\item[c] 3\n",
       "\\item[d] 4\n",
       "\\item[e] 5\n",
       "\\end{description*}\n"
      ],
      "text/markdown": [
       "a\n",
       ":   1b\n",
       ":   2c\n",
       ":   3d\n",
       ":   4e\n",
       ":   5\n",
       "\n"
      ],
      "text/plain": [
       "a b c d e \n",
       "1 2 3 4 5 "
      ]
     },
     "metadata": {},
     "output_type": "display_data"
    },
    {
     "data": {
      "text/html": [
       "<strong>d:</strong> 4"
      ],
      "text/latex": [
       "\\textbf{d:} 4"
      ],
      "text/markdown": [
       "**d:** 4"
      ],
      "text/plain": [
       "d \n",
       "4 "
      ]
     },
     "metadata": {},
     "output_type": "display_data"
    },
    {
     "data": {
      "text/html": [
       "<ol class=list-inline>\n",
       "\t<li>'a'</li>\n",
       "\t<li>'b'</li>\n",
       "\t<li>'c'</li>\n",
       "\t<li>'d'</li>\n",
       "\t<li>'e'</li>\n",
       "</ol>\n"
      ],
      "text/latex": [
       "\\begin{enumerate*}\n",
       "\\item 'a'\n",
       "\\item 'b'\n",
       "\\item 'c'\n",
       "\\item 'd'\n",
       "\\item 'e'\n",
       "\\end{enumerate*}\n"
      ],
      "text/markdown": [
       "1. 'a'\n",
       "2. 'b'\n",
       "3. 'c'\n",
       "4. 'd'\n",
       "5. 'e'\n",
       "\n",
       "\n"
      ],
      "text/plain": [
       "[1] \"a\" \"b\" \"c\" \"d\" \"e\""
      ]
     },
     "metadata": {},
     "output_type": "display_data"
    }
   ],
   "source": [
    "names(Charlie) <- c(\"a\", \"b\", \"c\", \"d\", \"e\")\n",
    "Charlie\n",
    "Charlie[\"d\"]\n",
    "names(Charlie)"
   ]
  },
  {
   "cell_type": "markdown",
   "metadata": {},
   "source": [
    "### Clean names"
   ]
  },
  {
   "cell_type": "code",
   "execution_count": 6,
   "metadata": {},
   "outputs": [
    {
     "data": {
      "text/html": [
       "<ol class=list-inline>\n",
       "\t<li>1</li>\n",
       "\t<li>2</li>\n",
       "\t<li>3</li>\n",
       "\t<li>4</li>\n",
       "\t<li>5</li>\n",
       "</ol>\n"
      ],
      "text/latex": [
       "\\begin{enumerate*}\n",
       "\\item 1\n",
       "\\item 2\n",
       "\\item 3\n",
       "\\item 4\n",
       "\\item 5\n",
       "\\end{enumerate*}\n"
      ],
      "text/markdown": [
       "1. 1\n",
       "2. 2\n",
       "3. 3\n",
       "4. 4\n",
       "5. 5\n",
       "\n",
       "\n"
      ],
      "text/plain": [
       "[1] 1 2 3 4 5"
      ]
     },
     "metadata": {},
     "output_type": "display_data"
    }
   ],
   "source": [
    "names(Charlie) <- NULL\n",
    "Charlie"
   ]
  },
  {
   "cell_type": "markdown",
   "metadata": {},
   "source": [
    "## Naming Matrix Dimensions"
   ]
  },
  {
   "cell_type": "code",
   "execution_count": 7,
   "metadata": {},
   "outputs": [
    {
     "data": {
      "text/html": [
       "<ol class=list-inline>\n",
       "\t<li>'a'</li>\n",
       "\t<li>'a'</li>\n",
       "\t<li>'a'</li>\n",
       "\t<li>'B'</li>\n",
       "\t<li>'B'</li>\n",
       "\t<li>'B'</li>\n",
       "\t<li>'zZ'</li>\n",
       "\t<li>'zZ'</li>\n",
       "\t<li>'zZ'</li>\n",
       "</ol>\n"
      ],
      "text/latex": [
       "\\begin{enumerate*}\n",
       "\\item 'a'\n",
       "\\item 'a'\n",
       "\\item 'a'\n",
       "\\item 'B'\n",
       "\\item 'B'\n",
       "\\item 'B'\n",
       "\\item 'zZ'\n",
       "\\item 'zZ'\n",
       "\\item 'zZ'\n",
       "\\end{enumerate*}\n"
      ],
      "text/markdown": [
       "1. 'a'\n",
       "2. 'a'\n",
       "3. 'a'\n",
       "4. 'B'\n",
       "5. 'B'\n",
       "6. 'B'\n",
       "7. 'zZ'\n",
       "8. 'zZ'\n",
       "9. 'zZ'\n",
       "\n",
       "\n"
      ],
      "text/plain": [
       "[1] \"a\"  \"a\"  \"a\"  \"B\"  \"B\"  \"B\"  \"zZ\" \"zZ\" \"zZ\""
      ]
     },
     "metadata": {},
     "output_type": "display_data"
    },
    {
     "data": {
      "text/html": [
       "<table>\n",
       "<tbody>\n",
       "\t<tr><td>a </td><td>B </td><td>zZ</td></tr>\n",
       "\t<tr><td>a </td><td>B </td><td>zZ</td></tr>\n",
       "\t<tr><td>a </td><td>B </td><td>zZ</td></tr>\n",
       "</tbody>\n",
       "</table>\n"
      ],
      "text/latex": [
       "\\begin{tabular}{lll}\n",
       "\t a  & B  & zZ\\\\\n",
       "\t a  & B  & zZ\\\\\n",
       "\t a  & B  & zZ\\\\\n",
       "\\end{tabular}\n"
      ],
      "text/markdown": [
       "\n",
       "| a  | B  | zZ | \n",
       "| a  | B  | zZ | \n",
       "| a  | B  | zZ | \n",
       "\n",
       "\n"
      ],
      "text/plain": [
       "     [,1] [,2] [,3]\n",
       "[1,] a    B    zZ  \n",
       "[2,] a    B    zZ  \n",
       "[3,] a    B    zZ  "
      ]
     },
     "metadata": {},
     "output_type": "display_data"
    },
    {
     "data": {
      "text/html": [
       "<table>\n",
       "<tbody>\n",
       "\t<tr><th scope=row>How</th><td>a </td><td>B </td><td>zZ</td></tr>\n",
       "\t<tr><th scope=row>are</th><td>a </td><td>B </td><td>zZ</td></tr>\n",
       "\t<tr><th scope=row>you?</th><td>a </td><td>B </td><td>zZ</td></tr>\n",
       "</tbody>\n",
       "</table>\n"
      ],
      "text/latex": [
       "\\begin{tabular}{r|lll}\n",
       "\tHow & a  & B  & zZ\\\\\n",
       "\tare & a  & B  & zZ\\\\\n",
       "\tyou? & a  & B  & zZ\\\\\n",
       "\\end{tabular}\n"
      ],
      "text/markdown": [
       "\n",
       "| How | a  | B  | zZ | \n",
       "| are | a  | B  | zZ | \n",
       "| you? | a  | B  | zZ | \n",
       "\n",
       "\n"
      ],
      "text/plain": [
       "     [,1] [,2] [,3]\n",
       "How  a    B    zZ  \n",
       "are  a    B    zZ  \n",
       "you? a    B    zZ  "
      ]
     },
     "metadata": {},
     "output_type": "display_data"
    },
    {
     "data": {
      "text/html": [
       "<table>\n",
       "<thead><tr><th></th><th scope=col>X</th><th scope=col>Y</th><th scope=col>Z</th></tr></thead>\n",
       "<tbody>\n",
       "\t<tr><th scope=row>How</th><td>a </td><td>B </td><td>zZ</td></tr>\n",
       "\t<tr><th scope=row>are</th><td>a </td><td>B </td><td>zZ</td></tr>\n",
       "\t<tr><th scope=row>you?</th><td>a </td><td>B </td><td>zZ</td></tr>\n",
       "</tbody>\n",
       "</table>\n"
      ],
      "text/latex": [
       "\\begin{tabular}{r|lll}\n",
       "  & X & Y & Z\\\\\n",
       "\\hline\n",
       "\tHow & a  & B  & zZ\\\\\n",
       "\tare & a  & B  & zZ\\\\\n",
       "\tyou? & a  & B  & zZ\\\\\n",
       "\\end{tabular}\n"
      ],
      "text/markdown": [
       "\n",
       "| <!--/--> | X | Y | Z | \n",
       "|---|---|---|\n",
       "| How | a  | B  | zZ | \n",
       "| are | a  | B  | zZ | \n",
       "| you? | a  | B  | zZ | \n",
       "\n",
       "\n"
      ],
      "text/plain": [
       "     X Y Z \n",
       "How  a B zZ\n",
       "are  a B zZ\n",
       "you? a B zZ"
      ]
     },
     "metadata": {},
     "output_type": "display_data"
    },
    {
     "data": {
      "text/html": [
       "<table>\n",
       "<thead><tr><th></th><th scope=col>X</th><th scope=col>Y</th><th scope=col>Z</th></tr></thead>\n",
       "<tbody>\n",
       "\t<tr><th scope=row>How</th><td>a </td><td>B </td><td>zZ</td></tr>\n",
       "\t<tr><th scope=row>are</th><td>a </td><td>0 </td><td>zZ</td></tr>\n",
       "\t<tr><th scope=row>you?</th><td>a </td><td>B </td><td>zZ</td></tr>\n",
       "</tbody>\n",
       "</table>\n"
      ],
      "text/latex": [
       "\\begin{tabular}{r|lll}\n",
       "  & X & Y & Z\\\\\n",
       "\\hline\n",
       "\tHow & a  & B  & zZ\\\\\n",
       "\tare & a  & 0  & zZ\\\\\n",
       "\tyou? & a  & B  & zZ\\\\\n",
       "\\end{tabular}\n"
      ],
      "text/markdown": [
       "\n",
       "| <!--/--> | X | Y | Z | \n",
       "|---|---|---|\n",
       "| How | a  | B  | zZ | \n",
       "| are | a  | 0  | zZ | \n",
       "| you? | a  | B  | zZ | \n",
       "\n",
       "\n"
      ],
      "text/plain": [
       "     X Y Z \n",
       "How  a B zZ\n",
       "are  a 0 zZ\n",
       "you? a B zZ"
      ]
     },
     "metadata": {},
     "output_type": "display_data"
    },
    {
     "data": {
      "text/html": [
       "<table>\n",
       "<thead><tr><th scope=col>X</th><th scope=col>Y</th><th scope=col>Z</th></tr></thead>\n",
       "<tbody>\n",
       "\t<tr><td>a </td><td>B </td><td>zZ</td></tr>\n",
       "\t<tr><td>a </td><td>0 </td><td>zZ</td></tr>\n",
       "\t<tr><td>a </td><td>B </td><td>zZ</td></tr>\n",
       "</tbody>\n",
       "</table>\n"
      ],
      "text/latex": [
       "\\begin{tabular}{lll}\n",
       " X & Y & Z\\\\\n",
       "\\hline\n",
       "\t a  & B  & zZ\\\\\n",
       "\t a  & 0  & zZ\\\\\n",
       "\t a  & B  & zZ\\\\\n",
       "\\end{tabular}\n"
      ],
      "text/markdown": [
       "\n",
       "X | Y | Z | \n",
       "|---|---|---|\n",
       "| a  | B  | zZ | \n",
       "| a  | 0  | zZ | \n",
       "| a  | B  | zZ | \n",
       "\n",
       "\n"
      ],
      "text/plain": [
       "     X Y Z \n",
       "[1,] a B zZ\n",
       "[2,] a 0 zZ\n",
       "[3,] a B zZ"
      ]
     },
     "metadata": {},
     "output_type": "display_data"
    }
   ],
   "source": [
    "temp.vec <- rep(c(\"a\", \"B\", \"zZ\"), each=3)\n",
    "temp.vec\n",
    "\n",
    "Bravo <- matrix(temp.vec, 3, 3)\n",
    "Bravo\n",
    "\n",
    "rownames(Bravo) <- c(\"How\", \"are\", \"you?\")\n",
    "Bravo\n",
    "\n",
    "colnames(Bravo) <- c(\"X\", \"Y\", \"Z\")\n",
    "Bravo\n",
    "\n",
    "Bravo[\"are\", \"Y\"] <- 0\n",
    "Bravo\n",
    "\n",
    "rownames(Bravo) <- NULL\n",
    "Bravo"
   ]
  },
  {
   "cell_type": "markdown",
   "metadata": {},
   "source": [
    "# Matrix operations"
   ]
  },
  {
   "cell_type": "code",
   "execution_count": 8,
   "metadata": {},
   "outputs": [],
   "source": [
    "source(\"./datasets/4.\\ Basketball\\ Data.R\")"
   ]
  },
  {
   "cell_type": "markdown",
   "metadata": {},
   "source": [
    "## Games"
   ]
  },
  {
   "cell_type": "code",
   "execution_count": 11,
   "metadata": {},
   "outputs": [
    {
     "data": {
      "text/html": [
       "<table>\n",
       "<thead><tr><th></th><th scope=col>2005</th><th scope=col>2006</th><th scope=col>2007</th><th scope=col>2008</th><th scope=col>2009</th><th scope=col>2010</th><th scope=col>2011</th><th scope=col>2012</th><th scope=col>2013</th><th scope=col>2014</th></tr></thead>\n",
       "<tbody>\n",
       "\t<tr><th scope=row>KobeBryant</th><td>80</td><td>77</td><td>82</td><td>82</td><td>73</td><td>82</td><td>58</td><td>78</td><td> 6</td><td>35</td></tr>\n",
       "\t<tr><th scope=row>JoeJohnson</th><td>82</td><td>57</td><td>82</td><td>79</td><td>76</td><td>72</td><td>60</td><td>72</td><td>79</td><td>80</td></tr>\n",
       "\t<tr><th scope=row>LeBronJames</th><td>79</td><td>78</td><td>75</td><td>81</td><td>76</td><td>79</td><td>62</td><td>76</td><td>77</td><td>69</td></tr>\n",
       "\t<tr><th scope=row>CarmeloAnthony</th><td>80</td><td>65</td><td>77</td><td>66</td><td>69</td><td>77</td><td>55</td><td>67</td><td>77</td><td>40</td></tr>\n",
       "\t<tr><th scope=row>DwightHoward</th><td>82</td><td>82</td><td>82</td><td>79</td><td>82</td><td>78</td><td>54</td><td>76</td><td>71</td><td>41</td></tr>\n",
       "\t<tr><th scope=row>ChrisBosh</th><td>70</td><td>69</td><td>67</td><td>77</td><td>70</td><td>77</td><td>57</td><td>74</td><td>79</td><td>44</td></tr>\n",
       "\t<tr><th scope=row>ChrisPaul</th><td>78</td><td>64</td><td>80</td><td>78</td><td>45</td><td>80</td><td>60</td><td>70</td><td>62</td><td>82</td></tr>\n",
       "\t<tr><th scope=row>KevinDurant</th><td>35</td><td>35</td><td>80</td><td>74</td><td>82</td><td>78</td><td>66</td><td>81</td><td>81</td><td>27</td></tr>\n",
       "\t<tr><th scope=row>DerrickRose</th><td>40</td><td>40</td><td>40</td><td>81</td><td>78</td><td>81</td><td>39</td><td> 0</td><td>10</td><td>51</td></tr>\n",
       "\t<tr><th scope=row>DwayneWade</th><td>75</td><td>51</td><td>51</td><td>79</td><td>77</td><td>76</td><td>49</td><td>69</td><td>54</td><td>62</td></tr>\n",
       "</tbody>\n",
       "</table>\n"
      ],
      "text/latex": [
       "\\begin{tabular}{r|llllllllll}\n",
       "  & 2005 & 2006 & 2007 & 2008 & 2009 & 2010 & 2011 & 2012 & 2013 & 2014\\\\\n",
       "\\hline\n",
       "\tKobeBryant & 80 & 77 & 82 & 82 & 73 & 82 & 58 & 78 &  6 & 35\\\\\n",
       "\tJoeJohnson & 82 & 57 & 82 & 79 & 76 & 72 & 60 & 72 & 79 & 80\\\\\n",
       "\tLeBronJames & 79 & 78 & 75 & 81 & 76 & 79 & 62 & 76 & 77 & 69\\\\\n",
       "\tCarmeloAnthony & 80 & 65 & 77 & 66 & 69 & 77 & 55 & 67 & 77 & 40\\\\\n",
       "\tDwightHoward & 82 & 82 & 82 & 79 & 82 & 78 & 54 & 76 & 71 & 41\\\\\n",
       "\tChrisBosh & 70 & 69 & 67 & 77 & 70 & 77 & 57 & 74 & 79 & 44\\\\\n",
       "\tChrisPaul & 78 & 64 & 80 & 78 & 45 & 80 & 60 & 70 & 62 & 82\\\\\n",
       "\tKevinDurant & 35 & 35 & 80 & 74 & 82 & 78 & 66 & 81 & 81 & 27\\\\\n",
       "\tDerrickRose & 40 & 40 & 40 & 81 & 78 & 81 & 39 &  0 & 10 & 51\\\\\n",
       "\tDwayneWade & 75 & 51 & 51 & 79 & 77 & 76 & 49 & 69 & 54 & 62\\\\\n",
       "\\end{tabular}\n"
      ],
      "text/markdown": [
       "\n",
       "| <!--/--> | 2005 | 2006 | 2007 | 2008 | 2009 | 2010 | 2011 | 2012 | 2013 | 2014 | \n",
       "|---|---|---|---|---|---|---|---|---|---|\n",
       "| KobeBryant | 80 | 77 | 82 | 82 | 73 | 82 | 58 | 78 |  6 | 35 | \n",
       "| JoeJohnson | 82 | 57 | 82 | 79 | 76 | 72 | 60 | 72 | 79 | 80 | \n",
       "| LeBronJames | 79 | 78 | 75 | 81 | 76 | 79 | 62 | 76 | 77 | 69 | \n",
       "| CarmeloAnthony | 80 | 65 | 77 | 66 | 69 | 77 | 55 | 67 | 77 | 40 | \n",
       "| DwightHoward | 82 | 82 | 82 | 79 | 82 | 78 | 54 | 76 | 71 | 41 | \n",
       "| ChrisBosh | 70 | 69 | 67 | 77 | 70 | 77 | 57 | 74 | 79 | 44 | \n",
       "| ChrisPaul | 78 | 64 | 80 | 78 | 45 | 80 | 60 | 70 | 62 | 82 | \n",
       "| KevinDurant | 35 | 35 | 80 | 74 | 82 | 78 | 66 | 81 | 81 | 27 | \n",
       "| DerrickRose | 40 | 40 | 40 | 81 | 78 | 81 | 39 |  0 | 10 | 51 | \n",
       "| DwayneWade | 75 | 51 | 51 | 79 | 77 | 76 | 49 | 69 | 54 | 62 | \n",
       "\n",
       "\n"
      ],
      "text/plain": [
       "               2005 2006 2007 2008 2009 2010 2011 2012 2013 2014\n",
       "KobeBryant     80   77   82   82   73   82   58   78    6   35  \n",
       "JoeJohnson     82   57   82   79   76   72   60   72   79   80  \n",
       "LeBronJames    79   78   75   81   76   79   62   76   77   69  \n",
       "CarmeloAnthony 80   65   77   66   69   77   55   67   77   40  \n",
       "DwightHoward   82   82   82   79   82   78   54   76   71   41  \n",
       "ChrisBosh      70   69   67   77   70   77   57   74   79   44  \n",
       "ChrisPaul      78   64   80   78   45   80   60   70   62   82  \n",
       "KevinDurant    35   35   80   74   82   78   66   81   81   27  \n",
       "DerrickRose    40   40   40   81   78   81   39    0   10   51  \n",
       "DwayneWade     75   51   51   79   77   76   49   69   54   62  "
      ]
     },
     "metadata": {},
     "output_type": "display_data"
    },
    {
     "data": {
      "text/html": [
       "<table>\n",
       "<thead><tr><th></th><th scope=col>2005</th><th scope=col>2006</th><th scope=col>2007</th><th scope=col>2008</th><th scope=col>2009</th><th scope=col>2010</th><th scope=col>2011</th><th scope=col>2012</th><th scope=col>2013</th><th scope=col>2014</th></tr></thead>\n",
       "<tbody>\n",
       "\t<tr><th scope=row>KobeBryant</th><td>978</td><td>813</td><td>775</td><td>800</td><td>716</td><td>740</td><td>574</td><td>738</td><td> 31</td><td>266</td></tr>\n",
       "\t<tr><th scope=row>JoeJohnson</th><td>632</td><td>536</td><td>647</td><td>620</td><td>635</td><td>514</td><td>423</td><td>445</td><td>462</td><td>446</td></tr>\n",
       "\t<tr><th scope=row>LeBronJames</th><td>875</td><td>772</td><td>794</td><td>789</td><td>768</td><td>758</td><td>621</td><td>765</td><td>767</td><td>624</td></tr>\n",
       "\t<tr><th scope=row>CarmeloAnthony</th><td>756</td><td>691</td><td>728</td><td>535</td><td>688</td><td>684</td><td>441</td><td>669</td><td>743</td><td>358</td></tr>\n",
       "\t<tr><th scope=row>DwightHoward</th><td>468</td><td>526</td><td>583</td><td>560</td><td>510</td><td>619</td><td>416</td><td>470</td><td>473</td><td>251</td></tr>\n",
       "\t<tr><th scope=row>ChrisBosh</th><td>549</td><td>543</td><td>507</td><td>615</td><td>600</td><td>524</td><td>393</td><td>485</td><td>492</td><td>343</td></tr>\n",
       "\t<tr><th scope=row>ChrisPaul</th><td>407</td><td>381</td><td>630</td><td>631</td><td>314</td><td>430</td><td>425</td><td>412</td><td>406</td><td>568</td></tr>\n",
       "\t<tr><th scope=row>KevinDurant</th><td>306</td><td>306</td><td>587</td><td>661</td><td>794</td><td>711</td><td>643</td><td>731</td><td>849</td><td>238</td></tr>\n",
       "\t<tr><th scope=row>DerrickRose</th><td>208</td><td>208</td><td>208</td><td>574</td><td>672</td><td>711</td><td>302</td><td>  0</td><td> 58</td><td>338</td></tr>\n",
       "\t<tr><th scope=row>DwayneWade</th><td>699</td><td>472</td><td>439</td><td>854</td><td>719</td><td>692</td><td>416</td><td>569</td><td>415</td><td>509</td></tr>\n",
       "</tbody>\n",
       "</table>\n"
      ],
      "text/latex": [
       "\\begin{tabular}{r|llllllllll}\n",
       "  & 2005 & 2006 & 2007 & 2008 & 2009 & 2010 & 2011 & 2012 & 2013 & 2014\\\\\n",
       "\\hline\n",
       "\tKobeBryant & 978 & 813 & 775 & 800 & 716 & 740 & 574 & 738 &  31 & 266\\\\\n",
       "\tJoeJohnson & 632 & 536 & 647 & 620 & 635 & 514 & 423 & 445 & 462 & 446\\\\\n",
       "\tLeBronJames & 875 & 772 & 794 & 789 & 768 & 758 & 621 & 765 & 767 & 624\\\\\n",
       "\tCarmeloAnthony & 756 & 691 & 728 & 535 & 688 & 684 & 441 & 669 & 743 & 358\\\\\n",
       "\tDwightHoward & 468 & 526 & 583 & 560 & 510 & 619 & 416 & 470 & 473 & 251\\\\\n",
       "\tChrisBosh & 549 & 543 & 507 & 615 & 600 & 524 & 393 & 485 & 492 & 343\\\\\n",
       "\tChrisPaul & 407 & 381 & 630 & 631 & 314 & 430 & 425 & 412 & 406 & 568\\\\\n",
       "\tKevinDurant & 306 & 306 & 587 & 661 & 794 & 711 & 643 & 731 & 849 & 238\\\\\n",
       "\tDerrickRose & 208 & 208 & 208 & 574 & 672 & 711 & 302 &   0 &  58 & 338\\\\\n",
       "\tDwayneWade & 699 & 472 & 439 & 854 & 719 & 692 & 416 & 569 & 415 & 509\\\\\n",
       "\\end{tabular}\n"
      ],
      "text/markdown": [
       "\n",
       "| <!--/--> | 2005 | 2006 | 2007 | 2008 | 2009 | 2010 | 2011 | 2012 | 2013 | 2014 | \n",
       "|---|---|---|---|---|---|---|---|---|---|\n",
       "| KobeBryant | 978 | 813 | 775 | 800 | 716 | 740 | 574 | 738 |  31 | 266 | \n",
       "| JoeJohnson | 632 | 536 | 647 | 620 | 635 | 514 | 423 | 445 | 462 | 446 | \n",
       "| LeBronJames | 875 | 772 | 794 | 789 | 768 | 758 | 621 | 765 | 767 | 624 | \n",
       "| CarmeloAnthony | 756 | 691 | 728 | 535 | 688 | 684 | 441 | 669 | 743 | 358 | \n",
       "| DwightHoward | 468 | 526 | 583 | 560 | 510 | 619 | 416 | 470 | 473 | 251 | \n",
       "| ChrisBosh | 549 | 543 | 507 | 615 | 600 | 524 | 393 | 485 | 492 | 343 | \n",
       "| ChrisPaul | 407 | 381 | 630 | 631 | 314 | 430 | 425 | 412 | 406 | 568 | \n",
       "| KevinDurant | 306 | 306 | 587 | 661 | 794 | 711 | 643 | 731 | 849 | 238 | \n",
       "| DerrickRose | 208 | 208 | 208 | 574 | 672 | 711 | 302 |   0 |  58 | 338 | \n",
       "| DwayneWade | 699 | 472 | 439 | 854 | 719 | 692 | 416 | 569 | 415 | 509 | \n",
       "\n",
       "\n"
      ],
      "text/plain": [
       "               2005 2006 2007 2008 2009 2010 2011 2012 2013 2014\n",
       "KobeBryant     978  813  775  800  716  740  574  738   31  266 \n",
       "JoeJohnson     632  536  647  620  635  514  423  445  462  446 \n",
       "LeBronJames    875  772  794  789  768  758  621  765  767  624 \n",
       "CarmeloAnthony 756  691  728  535  688  684  441  669  743  358 \n",
       "DwightHoward   468  526  583  560  510  619  416  470  473  251 \n",
       "ChrisBosh      549  543  507  615  600  524  393  485  492  343 \n",
       "ChrisPaul      407  381  630  631  314  430  425  412  406  568 \n",
       "KevinDurant    306  306  587  661  794  711  643  731  849  238 \n",
       "DerrickRose    208  208  208  574  672  711  302    0   58  338 \n",
       "DwayneWade     699  472  439  854  719  692  416  569  415  509 "
      ]
     },
     "metadata": {},
     "output_type": "display_data"
    },
    {
     "data": {
      "text/html": [
       "<table>\n",
       "<thead><tr><th></th><th scope=col>2005</th><th scope=col>2006</th><th scope=col>2007</th><th scope=col>2008</th><th scope=col>2009</th><th scope=col>2010</th><th scope=col>2011</th><th scope=col>2012</th><th scope=col>2013</th><th scope=col>2014</th></tr></thead>\n",
       "<tbody>\n",
       "\t<tr><th scope=row>KobeBryant</th><td>3277</td><td>3140</td><td>3192</td><td>2960</td><td>2835</td><td>2779</td><td>2232</td><td>3013</td><td> 177</td><td>1207</td></tr>\n",
       "\t<tr><th scope=row>JoeJohnson</th><td>3340</td><td>2359</td><td>3343</td><td>3124</td><td>2886</td><td>2554</td><td>2127</td><td>2642</td><td>2575</td><td>2791</td></tr>\n",
       "\t<tr><th scope=row>LeBronJames</th><td>3361</td><td>3190</td><td>3027</td><td>3054</td><td>2966</td><td>3063</td><td>2326</td><td>2877</td><td>2902</td><td>2493</td></tr>\n",
       "\t<tr><th scope=row>CarmeloAnthony</th><td>2941</td><td>2486</td><td>2806</td><td>2277</td><td>2634</td><td>2751</td><td>1876</td><td>2482</td><td>2982</td><td>1428</td></tr>\n",
       "\t<tr><th scope=row>DwightHoward</th><td>3021</td><td>3023</td><td>3088</td><td>2821</td><td>2843</td><td>2935</td><td>2070</td><td>2722</td><td>2396</td><td>1223</td></tr>\n",
       "\t<tr><th scope=row>ChrisBosh</th><td>2751</td><td>2658</td><td>2425</td><td>2928</td><td>2526</td><td>2795</td><td>2007</td><td>2454</td><td>2531</td><td>1556</td></tr>\n",
       "\t<tr><th scope=row>ChrisPaul</th><td>2808</td><td>2353</td><td>3006</td><td>3002</td><td>1712</td><td>2880</td><td>2181</td><td>2335</td><td>2171</td><td>2857</td></tr>\n",
       "\t<tr><th scope=row>KevinDurant</th><td>1255</td><td>1255</td><td>2768</td><td>2885</td><td>3239</td><td>3038</td><td>2546</td><td>3119</td><td>3122</td><td> 913</td></tr>\n",
       "\t<tr><th scope=row>DerrickRose</th><td>1168</td><td>1168</td><td>1168</td><td>3000</td><td>2871</td><td>3026</td><td>1375</td><td>   0</td><td> 311</td><td>1530</td></tr>\n",
       "\t<tr><th scope=row>DwayneWade</th><td>2892</td><td>1931</td><td>1954</td><td>3048</td><td>2792</td><td>2823</td><td>1625</td><td>2391</td><td>1775</td><td>1971</td></tr>\n",
       "</tbody>\n",
       "</table>\n"
      ],
      "text/latex": [
       "\\begin{tabular}{r|llllllllll}\n",
       "  & 2005 & 2006 & 2007 & 2008 & 2009 & 2010 & 2011 & 2012 & 2013 & 2014\\\\\n",
       "\\hline\n",
       "\tKobeBryant & 3277 & 3140 & 3192 & 2960 & 2835 & 2779 & 2232 & 3013 &  177 & 1207\\\\\n",
       "\tJoeJohnson & 3340 & 2359 & 3343 & 3124 & 2886 & 2554 & 2127 & 2642 & 2575 & 2791\\\\\n",
       "\tLeBronJames & 3361 & 3190 & 3027 & 3054 & 2966 & 3063 & 2326 & 2877 & 2902 & 2493\\\\\n",
       "\tCarmeloAnthony & 2941 & 2486 & 2806 & 2277 & 2634 & 2751 & 1876 & 2482 & 2982 & 1428\\\\\n",
       "\tDwightHoward & 3021 & 3023 & 3088 & 2821 & 2843 & 2935 & 2070 & 2722 & 2396 & 1223\\\\\n",
       "\tChrisBosh & 2751 & 2658 & 2425 & 2928 & 2526 & 2795 & 2007 & 2454 & 2531 & 1556\\\\\n",
       "\tChrisPaul & 2808 & 2353 & 3006 & 3002 & 1712 & 2880 & 2181 & 2335 & 2171 & 2857\\\\\n",
       "\tKevinDurant & 1255 & 1255 & 2768 & 2885 & 3239 & 3038 & 2546 & 3119 & 3122 &  913\\\\\n",
       "\tDerrickRose & 1168 & 1168 & 1168 & 3000 & 2871 & 3026 & 1375 &    0 &  311 & 1530\\\\\n",
       "\tDwayneWade & 2892 & 1931 & 1954 & 3048 & 2792 & 2823 & 1625 & 2391 & 1775 & 1971\\\\\n",
       "\\end{tabular}\n"
      ],
      "text/markdown": [
       "\n",
       "| <!--/--> | 2005 | 2006 | 2007 | 2008 | 2009 | 2010 | 2011 | 2012 | 2013 | 2014 | \n",
       "|---|---|---|---|---|---|---|---|---|---|\n",
       "| KobeBryant | 3277 | 3140 | 3192 | 2960 | 2835 | 2779 | 2232 | 3013 |  177 | 1207 | \n",
       "| JoeJohnson | 3340 | 2359 | 3343 | 3124 | 2886 | 2554 | 2127 | 2642 | 2575 | 2791 | \n",
       "| LeBronJames | 3361 | 3190 | 3027 | 3054 | 2966 | 3063 | 2326 | 2877 | 2902 | 2493 | \n",
       "| CarmeloAnthony | 2941 | 2486 | 2806 | 2277 | 2634 | 2751 | 1876 | 2482 | 2982 | 1428 | \n",
       "| DwightHoward | 3021 | 3023 | 3088 | 2821 | 2843 | 2935 | 2070 | 2722 | 2396 | 1223 | \n",
       "| ChrisBosh | 2751 | 2658 | 2425 | 2928 | 2526 | 2795 | 2007 | 2454 | 2531 | 1556 | \n",
       "| ChrisPaul | 2808 | 2353 | 3006 | 3002 | 1712 | 2880 | 2181 | 2335 | 2171 | 2857 | \n",
       "| KevinDurant | 1255 | 1255 | 2768 | 2885 | 3239 | 3038 | 2546 | 3119 | 3122 |  913 | \n",
       "| DerrickRose | 1168 | 1168 | 1168 | 3000 | 2871 | 3026 | 1375 |    0 |  311 | 1530 | \n",
       "| DwayneWade | 2892 | 1931 | 1954 | 3048 | 2792 | 2823 | 1625 | 2391 | 1775 | 1971 | \n",
       "\n",
       "\n"
      ],
      "text/plain": [
       "               2005 2006 2007 2008 2009 2010 2011 2012 2013 2014\n",
       "KobeBryant     3277 3140 3192 2960 2835 2779 2232 3013  177 1207\n",
       "JoeJohnson     3340 2359 3343 3124 2886 2554 2127 2642 2575 2791\n",
       "LeBronJames    3361 3190 3027 3054 2966 3063 2326 2877 2902 2493\n",
       "CarmeloAnthony 2941 2486 2806 2277 2634 2751 1876 2482 2982 1428\n",
       "DwightHoward   3021 3023 3088 2821 2843 2935 2070 2722 2396 1223\n",
       "ChrisBosh      2751 2658 2425 2928 2526 2795 2007 2454 2531 1556\n",
       "ChrisPaul      2808 2353 3006 3002 1712 2880 2181 2335 2171 2857\n",
       "KevinDurant    1255 1255 2768 2885 3239 3038 2546 3119 3122  913\n",
       "DerrickRose    1168 1168 1168 3000 2871 3026 1375    0  311 1530\n",
       "DwayneWade     2892 1931 1954 3048 2792 2823 1625 2391 1775 1971"
      ]
     },
     "metadata": {},
     "output_type": "display_data"
    }
   ],
   "source": [
    "Games\n",
    "FieldGoals\n",
    "MinutesPlayed"
   ]
  },
  {
   "cell_type": "markdown",
   "metadata": {},
   "source": [
    "## Operations"
   ]
  },
  {
   "cell_type": "code",
   "execution_count": 12,
   "metadata": {},
   "outputs": [
    {
     "data": {
      "text/html": [
       "<table>\n",
       "<thead><tr><th></th><th scope=col>2005</th><th scope=col>2006</th><th scope=col>2007</th><th scope=col>2008</th><th scope=col>2009</th><th scope=col>2010</th><th scope=col>2011</th><th scope=col>2012</th><th scope=col>2013</th><th scope=col>2014</th></tr></thead>\n",
       "<tbody>\n",
       "\t<tr><th scope=row>KobeBryant</th><td>12.2</td><td>10.6</td><td> 9.5</td><td> 9.8</td><td> 9.8</td><td>9.0 </td><td> 9.9</td><td> 9.5</td><td> 5.2</td><td>7.6 </td></tr>\n",
       "\t<tr><th scope=row>JoeJohnson</th><td> 7.7</td><td> 9.4</td><td> 7.9</td><td> 7.8</td><td> 8.4</td><td>7.1 </td><td> 7.0</td><td> 6.2</td><td> 5.8</td><td>5.6 </td></tr>\n",
       "\t<tr><th scope=row>LeBronJames</th><td>11.1</td><td> 9.9</td><td>10.6</td><td> 9.7</td><td>10.1</td><td>9.6 </td><td>10.0</td><td>10.1</td><td>10.0</td><td>9.0 </td></tr>\n",
       "\t<tr><th scope=row>CarmeloAnthony</th><td> 9.4</td><td>10.6</td><td> 9.5</td><td> 8.1</td><td>10.0</td><td>8.9 </td><td> 8.0</td><td>10.0</td><td> 9.6</td><td>8.9 </td></tr>\n",
       "\t<tr><th scope=row>DwightHoward</th><td> 5.7</td><td> 6.4</td><td> 7.1</td><td> 7.1</td><td> 6.2</td><td>7.9 </td><td> 7.7</td><td> 6.2</td><td> 6.7</td><td>6.1 </td></tr>\n",
       "\t<tr><th scope=row>ChrisBosh</th><td> 7.8</td><td> 7.9</td><td> 7.6</td><td> 8.0</td><td> 8.6</td><td>6.8 </td><td> 6.9</td><td> 6.6</td><td> 6.2</td><td>7.8 </td></tr>\n",
       "\t<tr><th scope=row>ChrisPaul</th><td> 5.2</td><td> 6.0</td><td> 7.9</td><td> 8.1</td><td> 7.0</td><td>5.4 </td><td> 7.1</td><td> 5.9</td><td> 6.5</td><td>6.9 </td></tr>\n",
       "\t<tr><th scope=row>KevinDurant</th><td> 8.7</td><td> 8.7</td><td> 7.3</td><td> 8.9</td><td> 9.7</td><td>9.1 </td><td> 9.7</td><td> 9.0</td><td>10.5</td><td>8.8 </td></tr>\n",
       "\t<tr><th scope=row>DerrickRose</th><td> 5.2</td><td> 5.2</td><td> 5.2</td><td> 7.1</td><td> 8.6</td><td>8.8 </td><td> 7.7</td><td> NaN</td><td> 5.8</td><td>6.6 </td></tr>\n",
       "\t<tr><th scope=row>DwayneWade</th><td> 9.3</td><td> 9.3</td><td> 8.6</td><td>10.8</td><td> 9.3</td><td>9.1 </td><td> 8.5</td><td> 8.2</td><td> 7.7</td><td>8.2 </td></tr>\n",
       "</tbody>\n",
       "</table>\n"
      ],
      "text/latex": [
       "\\begin{tabular}{r|llllllllll}\n",
       "  & 2005 & 2006 & 2007 & 2008 & 2009 & 2010 & 2011 & 2012 & 2013 & 2014\\\\\n",
       "\\hline\n",
       "\tKobeBryant & 12.2 & 10.6 &  9.5 &  9.8 &  9.8 & 9.0  &  9.9 &  9.5 &  5.2 & 7.6 \\\\\n",
       "\tJoeJohnson &  7.7 &  9.4 &  7.9 &  7.8 &  8.4 & 7.1  &  7.0 &  6.2 &  5.8 & 5.6 \\\\\n",
       "\tLeBronJames & 11.1 &  9.9 & 10.6 &  9.7 & 10.1 & 9.6  & 10.0 & 10.1 & 10.0 & 9.0 \\\\\n",
       "\tCarmeloAnthony &  9.4 & 10.6 &  9.5 &  8.1 & 10.0 & 8.9  &  8.0 & 10.0 &  9.6 & 8.9 \\\\\n",
       "\tDwightHoward &  5.7 &  6.4 &  7.1 &  7.1 &  6.2 & 7.9  &  7.7 &  6.2 &  6.7 & 6.1 \\\\\n",
       "\tChrisBosh &  7.8 &  7.9 &  7.6 &  8.0 &  8.6 & 6.8  &  6.9 &  6.6 &  6.2 & 7.8 \\\\\n",
       "\tChrisPaul &  5.2 &  6.0 &  7.9 &  8.1 &  7.0 & 5.4  &  7.1 &  5.9 &  6.5 & 6.9 \\\\\n",
       "\tKevinDurant &  8.7 &  8.7 &  7.3 &  8.9 &  9.7 & 9.1  &  9.7 &  9.0 & 10.5 & 8.8 \\\\\n",
       "\tDerrickRose &  5.2 &  5.2 &  5.2 &  7.1 &  8.6 & 8.8  &  7.7 &  NaN &  5.8 & 6.6 \\\\\n",
       "\tDwayneWade &  9.3 &  9.3 &  8.6 & 10.8 &  9.3 & 9.1  &  8.5 &  8.2 &  7.7 & 8.2 \\\\\n",
       "\\end{tabular}\n"
      ],
      "text/markdown": [
       "\n",
       "| <!--/--> | 2005 | 2006 | 2007 | 2008 | 2009 | 2010 | 2011 | 2012 | 2013 | 2014 | \n",
       "|---|---|---|---|---|---|---|---|---|---|\n",
       "| KobeBryant | 12.2 | 10.6 |  9.5 |  9.8 |  9.8 | 9.0  |  9.9 |  9.5 |  5.2 | 7.6  | \n",
       "| JoeJohnson |  7.7 |  9.4 |  7.9 |  7.8 |  8.4 | 7.1  |  7.0 |  6.2 |  5.8 | 5.6  | \n",
       "| LeBronJames | 11.1 |  9.9 | 10.6 |  9.7 | 10.1 | 9.6  | 10.0 | 10.1 | 10.0 | 9.0  | \n",
       "| CarmeloAnthony |  9.4 | 10.6 |  9.5 |  8.1 | 10.0 | 8.9  |  8.0 | 10.0 |  9.6 | 8.9  | \n",
       "| DwightHoward |  5.7 |  6.4 |  7.1 |  7.1 |  6.2 | 7.9  |  7.7 |  6.2 |  6.7 | 6.1  | \n",
       "| ChrisBosh |  7.8 |  7.9 |  7.6 |  8.0 |  8.6 | 6.8  |  6.9 |  6.6 |  6.2 | 7.8  | \n",
       "| ChrisPaul |  5.2 |  6.0 |  7.9 |  8.1 |  7.0 | 5.4  |  7.1 |  5.9 |  6.5 | 6.9  | \n",
       "| KevinDurant |  8.7 |  8.7 |  7.3 |  8.9 |  9.7 | 9.1  |  9.7 |  9.0 | 10.5 | 8.8  | \n",
       "| DerrickRose |  5.2 |  5.2 |  5.2 |  7.1 |  8.6 | 8.8  |  7.7 |  NaN |  5.8 | 6.6  | \n",
       "| DwayneWade |  9.3 |  9.3 |  8.6 | 10.8 |  9.3 | 9.1  |  8.5 |  8.2 |  7.7 | 8.2  | \n",
       "\n",
       "\n"
      ],
      "text/plain": [
       "               2005 2006 2007 2008 2009 2010 2011 2012 2013 2014\n",
       "KobeBryant     12.2 10.6  9.5  9.8  9.8 9.0   9.9  9.5  5.2 7.6 \n",
       "JoeJohnson      7.7  9.4  7.9  7.8  8.4 7.1   7.0  6.2  5.8 5.6 \n",
       "LeBronJames    11.1  9.9 10.6  9.7 10.1 9.6  10.0 10.1 10.0 9.0 \n",
       "CarmeloAnthony  9.4 10.6  9.5  8.1 10.0 8.9   8.0 10.0  9.6 8.9 \n",
       "DwightHoward    5.7  6.4  7.1  7.1  6.2 7.9   7.7  6.2  6.7 6.1 \n",
       "ChrisBosh       7.8  7.9  7.6  8.0  8.6 6.8   6.9  6.6  6.2 7.8 \n",
       "ChrisPaul       5.2  6.0  7.9  8.1  7.0 5.4   7.1  5.9  6.5 6.9 \n",
       "KevinDurant     8.7  8.7  7.3  8.9  9.7 9.1   9.7  9.0 10.5 8.8 \n",
       "DerrickRose     5.2  5.2  5.2  7.1  8.6 8.8   7.7  NaN  5.8 6.6 \n",
       "DwayneWade      9.3  9.3  8.6 10.8  9.3 9.1   8.5  8.2  7.7 8.2 "
      ]
     },
     "metadata": {},
     "output_type": "display_data"
    },
    {
     "data": {
      "text/html": [
       "<table>\n",
       "<thead><tr><th></th><th scope=col>2005</th><th scope=col>2006</th><th scope=col>2007</th><th scope=col>2008</th><th scope=col>2009</th><th scope=col>2010</th><th scope=col>2011</th><th scope=col>2012</th><th scope=col>2013</th><th scope=col>2014</th></tr></thead>\n",
       "<tbody>\n",
       "\t<tr><th scope=row>KobeBryant</th><td>41 </td><td>41 </td><td>39 </td><td>36 </td><td>39 </td><td>34 </td><td>38 </td><td> 39</td><td>30 </td><td>34 </td></tr>\n",
       "\t<tr><th scope=row>JoeJohnson</th><td>41 </td><td>41 </td><td>41 </td><td>40 </td><td>38 </td><td>35 </td><td>35 </td><td> 37</td><td>33 </td><td>35 </td></tr>\n",
       "\t<tr><th scope=row>LeBronJames</th><td>43 </td><td>41 </td><td>40 </td><td>38 </td><td>39 </td><td>39 </td><td>38 </td><td> 38</td><td>38 </td><td>36 </td></tr>\n",
       "\t<tr><th scope=row>CarmeloAnthony</th><td>37 </td><td>38 </td><td>36 </td><td>34 </td><td>38 </td><td>36 </td><td>34 </td><td> 37</td><td>39 </td><td>36 </td></tr>\n",
       "\t<tr><th scope=row>DwightHoward</th><td>37 </td><td>37 </td><td>38 </td><td>36 </td><td>35 </td><td>38 </td><td>38 </td><td> 36</td><td>34 </td><td>30 </td></tr>\n",
       "\t<tr><th scope=row>ChrisBosh</th><td>39 </td><td>39 </td><td>36 </td><td>38 </td><td>36 </td><td>36 </td><td>35 </td><td> 33</td><td>32 </td><td>35 </td></tr>\n",
       "\t<tr><th scope=row>ChrisPaul</th><td>36 </td><td>37 </td><td>38 </td><td>38 </td><td>38 </td><td>36 </td><td>36 </td><td> 33</td><td>35 </td><td>35 </td></tr>\n",
       "\t<tr><th scope=row>KevinDurant</th><td>36 </td><td>36 </td><td>35 </td><td>39 </td><td>40 </td><td>39 </td><td>39 </td><td> 39</td><td>39 </td><td>34 </td></tr>\n",
       "\t<tr><th scope=row>DerrickRose</th><td>29 </td><td>29 </td><td>29 </td><td>37 </td><td>37 </td><td>37 </td><td>35 </td><td>NaN</td><td>31 </td><td>30 </td></tr>\n",
       "\t<tr><th scope=row>DwayneWade</th><td>39 </td><td>38 </td><td>38 </td><td>39 </td><td>36 </td><td>37 </td><td>33 </td><td> 35</td><td>33 </td><td>32 </td></tr>\n",
       "</tbody>\n",
       "</table>\n"
      ],
      "text/latex": [
       "\\begin{tabular}{r|llllllllll}\n",
       "  & 2005 & 2006 & 2007 & 2008 & 2009 & 2010 & 2011 & 2012 & 2013 & 2014\\\\\n",
       "\\hline\n",
       "\tKobeBryant & 41  & 41  & 39  & 36  & 39  & 34  & 38  &  39 & 30  & 34 \\\\\n",
       "\tJoeJohnson & 41  & 41  & 41  & 40  & 38  & 35  & 35  &  37 & 33  & 35 \\\\\n",
       "\tLeBronJames & 43  & 41  & 40  & 38  & 39  & 39  & 38  &  38 & 38  & 36 \\\\\n",
       "\tCarmeloAnthony & 37  & 38  & 36  & 34  & 38  & 36  & 34  &  37 & 39  & 36 \\\\\n",
       "\tDwightHoward & 37  & 37  & 38  & 36  & 35  & 38  & 38  &  36 & 34  & 30 \\\\\n",
       "\tChrisBosh & 39  & 39  & 36  & 38  & 36  & 36  & 35  &  33 & 32  & 35 \\\\\n",
       "\tChrisPaul & 36  & 37  & 38  & 38  & 38  & 36  & 36  &  33 & 35  & 35 \\\\\n",
       "\tKevinDurant & 36  & 36  & 35  & 39  & 40  & 39  & 39  &  39 & 39  & 34 \\\\\n",
       "\tDerrickRose & 29  & 29  & 29  & 37  & 37  & 37  & 35  & NaN & 31  & 30 \\\\\n",
       "\tDwayneWade & 39  & 38  & 38  & 39  & 36  & 37  & 33  &  35 & 33  & 32 \\\\\n",
       "\\end{tabular}\n"
      ],
      "text/markdown": [
       "\n",
       "| <!--/--> | 2005 | 2006 | 2007 | 2008 | 2009 | 2010 | 2011 | 2012 | 2013 | 2014 | \n",
       "|---|---|---|---|---|---|---|---|---|---|\n",
       "| KobeBryant | 41  | 41  | 39  | 36  | 39  | 34  | 38  |  39 | 30  | 34  | \n",
       "| JoeJohnson | 41  | 41  | 41  | 40  | 38  | 35  | 35  |  37 | 33  | 35  | \n",
       "| LeBronJames | 43  | 41  | 40  | 38  | 39  | 39  | 38  |  38 | 38  | 36  | \n",
       "| CarmeloAnthony | 37  | 38  | 36  | 34  | 38  | 36  | 34  |  37 | 39  | 36  | \n",
       "| DwightHoward | 37  | 37  | 38  | 36  | 35  | 38  | 38  |  36 | 34  | 30  | \n",
       "| ChrisBosh | 39  | 39  | 36  | 38  | 36  | 36  | 35  |  33 | 32  | 35  | \n",
       "| ChrisPaul | 36  | 37  | 38  | 38  | 38  | 36  | 36  |  33 | 35  | 35  | \n",
       "| KevinDurant | 36  | 36  | 35  | 39  | 40  | 39  | 39  |  39 | 39  | 34  | \n",
       "| DerrickRose | 29  | 29  | 29  | 37  | 37  | 37  | 35  | NaN | 31  | 30  | \n",
       "| DwayneWade | 39  | 38  | 38  | 39  | 36  | 37  | 33  |  35 | 33  | 32  | \n",
       "\n",
       "\n"
      ],
      "text/plain": [
       "               2005 2006 2007 2008 2009 2010 2011 2012 2013 2014\n",
       "KobeBryant     41   41   39   36   39   34   38    39  30   34  \n",
       "JoeJohnson     41   41   41   40   38   35   35    37  33   35  \n",
       "LeBronJames    43   41   40   38   39   39   38    38  38   36  \n",
       "CarmeloAnthony 37   38   36   34   38   36   34    37  39   36  \n",
       "DwightHoward   37   37   38   36   35   38   38    36  34   30  \n",
       "ChrisBosh      39   39   36   38   36   36   35    33  32   35  \n",
       "ChrisPaul      36   37   38   38   38   36   36    33  35   35  \n",
       "KevinDurant    36   36   35   39   40   39   39    39  39   34  \n",
       "DerrickRose    29   29   29   37   37   37   35   NaN  31   30  \n",
       "DwayneWade     39   38   38   39   36   37   33    35  33   32  "
      ]
     },
     "metadata": {},
     "output_type": "display_data"
    }
   ],
   "source": [
    "round(FieldGoals / Games, 1)\n",
    "round(MinutesPlayed / Games)"
   ]
  }
 ],
 "metadata": {
  "kernelspec": {
   "display_name": "R",
   "language": "R",
   "name": "r"
  },
  "language_info": {
   "codemirror_mode": "r",
   "file_extension": ".r",
   "mimetype": "text/x-r-source",
   "name": "R",
   "pygments_lexer": "r",
   "version": "3.4.1"
  }
 },
 "nbformat": 4,
 "nbformat_minor": 2
}
