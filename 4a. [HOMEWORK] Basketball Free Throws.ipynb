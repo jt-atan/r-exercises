{
 "cells": [
  {
   "cell_type": "markdown",
   "metadata": {},
   "source": [
    "# Basketball Insights"
   ]
  },
  {
   "cell_type": "code",
   "execution_count": 1,
   "metadata": {},
   "outputs": [
    {
     "ename": "ERROR",
     "evalue": "Error in myplot(Salary): could not find function \"myplot\"\n",
     "output_type": "error",
     "traceback": [
      "Error in myplot(Salary): could not find function \"myplot\"\nTraceback:\n"
     ]
    }
   ],
   "source": [
    "#Salary\n",
    "myplot(Salary)\n",
    "myplot(Salary / Games)\n",
    "myplot(Salary / FieldGoals)"
   ]
  },
  {
   "cell_type": "code",
   "execution_count": 2,
   "metadata": {},
   "outputs": [
    {
     "ename": "ERROR",
     "evalue": "Error in myplot(MinutesPlayed): could not find function \"myplot\"\n",
     "output_type": "error",
     "traceback": [
      "Error in myplot(MinutesPlayed): could not find function \"myplot\"\nTraceback:\n"
     ]
    }
   ],
   "source": [
    "#In-Game Metrics\n",
    "myplot(MinutesPlayed)\n",
    "myplot(Points)"
   ]
  },
  {
   "cell_type": "code",
   "execution_count": 3,
   "metadata": {},
   "outputs": [
    {
     "ename": "ERROR",
     "evalue": "Error in myplot(FieldGoals/Games): could not find function \"myplot\"\n",
     "output_type": "error",
     "traceback": [
      "Error in myplot(FieldGoals/Games): could not find function \"myplot\"\nTraceback:\n"
     ]
    }
   ],
   "source": [
    "#In-Game Metrics Normalized\n",
    "myplot(FieldGoals / Games)\n",
    "myplot(FieldGoals / FieldGoalAttempts)\n",
    "myplot(FieldGoalAttempts / Games)\n",
    "myplot(Points / Games)"
   ]
  },
  {
   "cell_type": "code",
   "execution_count": 4,
   "metadata": {},
   "outputs": [
    {
     "ename": "ERROR",
     "evalue": "Error in myplot(MinutesPlayed/Games): could not find function \"myplot\"\n",
     "output_type": "error",
     "traceback": [
      "Error in myplot(MinutesPlayed/Games): could not find function \"myplot\"\nTraceback:\n"
     ]
    }
   ],
   "source": [
    "#Interesting Observabion\n",
    "myplot(MinutesPlayed / Games)\n",
    "myplot(Games)"
   ]
  },
  {
   "cell_type": "code",
   "execution_count": 5,
   "metadata": {},
   "outputs": [
    {
     "ename": "ERROR",
     "evalue": "Error in myplot(FieldGoals/MinutesPlayed): could not find function \"myplot\"\n",
     "output_type": "error",
     "traceback": [
      "Error in myplot(FieldGoals/MinutesPlayed): could not find function \"myplot\"\nTraceback:\n"
     ]
    }
   ],
   "source": [
    "#Time is valuable\n",
    "myplot(FieldGoals / MinutesPlayed)"
   ]
  },
  {
   "cell_type": "code",
   "execution_count": 6,
   "metadata": {},
   "outputs": [
    {
     "ename": "ERROR",
     "evalue": "Error in myplot(Points/FieldGoals): could not find function \"myplot\"\n",
     "output_type": "error",
     "traceback": [
      "Error in myplot(Points/FieldGoals): could not find function \"myplot\"\nTraceback:\n"
     ]
    }
   ],
   "source": [
    "#Player Style\n",
    "myplot(Points / FieldGoals)"
   ]
  },
  {
   "cell_type": "code",
   "execution_count": null,
   "metadata": {},
   "outputs": [],
   "source": []
  }
 ],
 "metadata": {
  "kernelspec": {
   "display_name": "R",
   "language": "R",
   "name": "r"
  },
  "language_info": {
   "codemirror_mode": "r",
   "file_extension": ".r",
   "mimetype": "text/x-r-source",
   "name": "R",
   "pygments_lexer": "r",
   "version": "3.4.1"
  }
 },
 "nbformat": 4,
 "nbformat_minor": 2
}
