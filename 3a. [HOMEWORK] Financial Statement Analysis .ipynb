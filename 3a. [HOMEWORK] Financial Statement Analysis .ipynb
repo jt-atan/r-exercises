{
 "cells": [
  {
   "cell_type": "markdown",
   "metadata": {},
   "source": [
    "# Data"
   ]
  },
  {
   "cell_type": "code",
   "execution_count": 1,
   "metadata": {},
   "outputs": [],
   "source": [
    "revenue <- c(14574.49, 7606.46, 8611.41, 9175.41, 8058.65, 8105.44, 11496.28, 9766.09, 10305.32, 14379.96, 10713.97, 15433.50)\n",
    "expenses <- c(12051.82, 5695.07, 12319.20, 12089.72, 8658.57, 840.20, 3285.73, 5821.12, 6976.93, 16618.61, 10054.37, 3803.96)"
   ]
  },
  {
   "cell_type": "markdown",
   "metadata": {},
   "source": [
    "# Solution"
   ]
  },
  {
   "cell_type": "markdown",
   "metadata": {},
   "source": [
    "## Calculate Profit As The Differences Between Revenue And Expenses"
   ]
  },
  {
   "cell_type": "code",
   "execution_count": 2,
   "metadata": {},
   "outputs": [
    {
     "data": {
      "text/html": [
       "<ol class=list-inline>\n",
       "\t<li>2522.67</li>\n",
       "\t<li>1911.39</li>\n",
       "\t<li>-3707.79</li>\n",
       "\t<li>-2914.31</li>\n",
       "\t<li>-599.92</li>\n",
       "\t<li>7265.24</li>\n",
       "\t<li>8210.55</li>\n",
       "\t<li>3944.97</li>\n",
       "\t<li>3328.39</li>\n",
       "\t<li>-2238.65</li>\n",
       "\t<li>659.599999999999</li>\n",
       "\t<li>11629.54</li>\n",
       "</ol>\n"
      ],
      "text/latex": [
       "\\begin{enumerate*}\n",
       "\\item 2522.67\n",
       "\\item 1911.39\n",
       "\\item -3707.79\n",
       "\\item -2914.31\n",
       "\\item -599.92\n",
       "\\item 7265.24\n",
       "\\item 8210.55\n",
       "\\item 3944.97\n",
       "\\item 3328.39\n",
       "\\item -2238.65\n",
       "\\item 659.599999999999\n",
       "\\item 11629.54\n",
       "\\end{enumerate*}\n"
      ],
      "text/markdown": [
       "1. 2522.67\n",
       "2. 1911.39\n",
       "3. -3707.79\n",
       "4. -2914.31\n",
       "5. -599.92\n",
       "6. 7265.24\n",
       "7. 8210.55\n",
       "8. 3944.97\n",
       "9. 3328.39\n",
       "10. -2238.65\n",
       "11. 659.599999999999\n",
       "12. 11629.54\n",
       "\n",
       "\n"
      ],
      "text/plain": [
       " [1]  2522.67  1911.39 -3707.79 -2914.31  -599.92  7265.24  8210.55  3944.97\n",
       " [9]  3328.39 -2238.65   659.60 11629.54"
      ]
     },
     "metadata": {},
     "output_type": "display_data"
    }
   ],
   "source": [
    "profit <- revenue - expenses\n",
    "profit"
   ]
  },
  {
   "cell_type": "markdown",
   "metadata": {},
   "source": [
    "## Calculate Tax As 30% Of Profit And Round To 2 Decimal Points"
   ]
  },
  {
   "cell_type": "code",
   "execution_count": 3,
   "metadata": {},
   "outputs": [
    {
     "data": {
      "text/html": [
       "<ol class=list-inline>\n",
       "\t<li>756.8</li>\n",
       "\t<li>573.42</li>\n",
       "\t<li>-1112.34</li>\n",
       "\t<li>-874.29</li>\n",
       "\t<li>-179.98</li>\n",
       "\t<li>2179.57</li>\n",
       "\t<li>2463.17</li>\n",
       "\t<li>1183.49</li>\n",
       "\t<li>998.52</li>\n",
       "\t<li>-671.6</li>\n",
       "\t<li>197.88</li>\n",
       "\t<li>3488.86</li>\n",
       "</ol>\n"
      ],
      "text/latex": [
       "\\begin{enumerate*}\n",
       "\\item 756.8\n",
       "\\item 573.42\n",
       "\\item -1112.34\n",
       "\\item -874.29\n",
       "\\item -179.98\n",
       "\\item 2179.57\n",
       "\\item 2463.17\n",
       "\\item 1183.49\n",
       "\\item 998.52\n",
       "\\item -671.6\n",
       "\\item 197.88\n",
       "\\item 3488.86\n",
       "\\end{enumerate*}\n"
      ],
      "text/markdown": [
       "1. 756.8\n",
       "2. 573.42\n",
       "3. -1112.34\n",
       "4. -874.29\n",
       "5. -179.98\n",
       "6. 2179.57\n",
       "7. 2463.17\n",
       "8. 1183.49\n",
       "9. 998.52\n",
       "10. -671.6\n",
       "11. 197.88\n",
       "12. 3488.86\n",
       "\n",
       "\n"
      ],
      "text/plain": [
       " [1]   756.80   573.42 -1112.34  -874.29  -179.98  2179.57  2463.17  1183.49\n",
       " [9]   998.52  -671.60   197.88  3488.86"
      ]
     },
     "metadata": {},
     "output_type": "display_data"
    }
   ],
   "source": [
    "tax <- round(0.30 * profit, 2)\n",
    "tax"
   ]
  },
  {
   "cell_type": "markdown",
   "metadata": {},
   "source": [
    "## Calculate Profit Remaining After Tax Is Deducted"
   ]
  },
  {
   "cell_type": "code",
   "execution_count": 4,
   "metadata": {},
   "outputs": [
    {
     "data": {
      "text/html": [
       "<ol class=list-inline>\n",
       "\t<li>1765.87</li>\n",
       "\t<li>1337.97</li>\n",
       "\t<li>-2595.45</li>\n",
       "\t<li>-2040.02</li>\n",
       "\t<li>-419.94</li>\n",
       "\t<li>5085.67</li>\n",
       "\t<li>5747.38</li>\n",
       "\t<li>2761.48</li>\n",
       "\t<li>2329.87</li>\n",
       "\t<li>-1567.05</li>\n",
       "\t<li>461.719999999999</li>\n",
       "\t<li>8140.68</li>\n",
       "</ol>\n"
      ],
      "text/latex": [
       "\\begin{enumerate*}\n",
       "\\item 1765.87\n",
       "\\item 1337.97\n",
       "\\item -2595.45\n",
       "\\item -2040.02\n",
       "\\item -419.94\n",
       "\\item 5085.67\n",
       "\\item 5747.38\n",
       "\\item 2761.48\n",
       "\\item 2329.87\n",
       "\\item -1567.05\n",
       "\\item 461.719999999999\n",
       "\\item 8140.68\n",
       "\\end{enumerate*}\n"
      ],
      "text/markdown": [
       "1. 1765.87\n",
       "2. 1337.97\n",
       "3. -2595.45\n",
       "4. -2040.02\n",
       "5. -419.94\n",
       "6. 5085.67\n",
       "7. 5747.38\n",
       "8. 2761.48\n",
       "9. 2329.87\n",
       "10. -1567.05\n",
       "11. 461.719999999999\n",
       "12. 8140.68\n",
       "\n",
       "\n"
      ],
      "text/plain": [
       " [1]  1765.87  1337.97 -2595.45 -2040.02  -419.94  5085.67  5747.38  2761.48\n",
       " [9]  2329.87 -1567.05   461.72  8140.68"
      ]
     },
     "metadata": {},
     "output_type": "display_data"
    }
   ],
   "source": [
    "profit.after.tax <- profit - tax\n",
    "profit.after.tax"
   ]
  },
  {
   "cell_type": "markdown",
   "metadata": {},
   "source": [
    "## Calculate The Profit Margin As Profit After Tax Over Revenue"
   ]
  },
  {
   "cell_type": "markdown",
   "metadata": {},
   "source": [
    "### Round To 2 Decimal Points, Then Multiply By 100 To Get %"
   ]
  },
  {
   "cell_type": "code",
   "execution_count": 5,
   "metadata": {},
   "outputs": [
    {
     "data": {
      "text/html": [
       "<ol class=list-inline>\n",
       "\t<li>12</li>\n",
       "\t<li>18</li>\n",
       "\t<li>-30</li>\n",
       "\t<li>-22</li>\n",
       "\t<li>-5</li>\n",
       "\t<li>63</li>\n",
       "\t<li>50</li>\n",
       "\t<li>28</li>\n",
       "\t<li>23</li>\n",
       "\t<li>-11</li>\n",
       "\t<li>4</li>\n",
       "\t<li>53</li>\n",
       "</ol>\n"
      ],
      "text/latex": [
       "\\begin{enumerate*}\n",
       "\\item 12\n",
       "\\item 18\n",
       "\\item -30\n",
       "\\item -22\n",
       "\\item -5\n",
       "\\item 63\n",
       "\\item 50\n",
       "\\item 28\n",
       "\\item 23\n",
       "\\item -11\n",
       "\\item 4\n",
       "\\item 53\n",
       "\\end{enumerate*}\n"
      ],
      "text/markdown": [
       "1. 12\n",
       "2. 18\n",
       "3. -30\n",
       "4. -22\n",
       "5. -5\n",
       "6. 63\n",
       "7. 50\n",
       "8. 28\n",
       "9. 23\n",
       "10. -11\n",
       "11. 4\n",
       "12. 53\n",
       "\n",
       "\n"
      ],
      "text/plain": [
       " [1]  12  18 -30 -22  -5  63  50  28  23 -11   4  53"
      ]
     },
     "metadata": {},
     "output_type": "display_data"
    }
   ],
   "source": [
    "profit.margin <- round(profit.after.tax / revenue, 2) * 100\n",
    "profit.margin"
   ]
  },
  {
   "cell_type": "markdown",
   "metadata": {},
   "source": [
    "## Calculate The Mean Profit After Tax For The 12 Months"
   ]
  },
  {
   "cell_type": "code",
   "execution_count": 6,
   "metadata": {},
   "outputs": [
    {
     "data": {
      "text/html": [
       "1750.68166666667"
      ],
      "text/latex": [
       "1750.68166666667"
      ],
      "text/markdown": [
       "1750.68166666667"
      ],
      "text/plain": [
       "[1] 1750.682"
      ]
     },
     "metadata": {},
     "output_type": "display_data"
    }
   ],
   "source": [
    "mean_pat <- mean(profit.after.tax)\n",
    "mean_pat"
   ]
  },
  {
   "cell_type": "markdown",
   "metadata": {},
   "source": [
    "## Find The Months With Above-Mean Profit After Tax"
   ]
  },
  {
   "cell_type": "code",
   "execution_count": 7,
   "metadata": {},
   "outputs": [
    {
     "data": {
      "text/html": [
       "<ol class=list-inline>\n",
       "\t<li>TRUE</li>\n",
       "\t<li>FALSE</li>\n",
       "\t<li>FALSE</li>\n",
       "\t<li>FALSE</li>\n",
       "\t<li>FALSE</li>\n",
       "\t<li>TRUE</li>\n",
       "\t<li>TRUE</li>\n",
       "\t<li>TRUE</li>\n",
       "\t<li>TRUE</li>\n",
       "\t<li>FALSE</li>\n",
       "\t<li>FALSE</li>\n",
       "\t<li>TRUE</li>\n",
       "</ol>\n"
      ],
      "text/latex": [
       "\\begin{enumerate*}\n",
       "\\item TRUE\n",
       "\\item FALSE\n",
       "\\item FALSE\n",
       "\\item FALSE\n",
       "\\item FALSE\n",
       "\\item TRUE\n",
       "\\item TRUE\n",
       "\\item TRUE\n",
       "\\item TRUE\n",
       "\\item FALSE\n",
       "\\item FALSE\n",
       "\\item TRUE\n",
       "\\end{enumerate*}\n"
      ],
      "text/markdown": [
       "1. TRUE\n",
       "2. FALSE\n",
       "3. FALSE\n",
       "4. FALSE\n",
       "5. FALSE\n",
       "6. TRUE\n",
       "7. TRUE\n",
       "8. TRUE\n",
       "9. TRUE\n",
       "10. FALSE\n",
       "11. FALSE\n",
       "12. TRUE\n",
       "\n",
       "\n"
      ],
      "text/plain": [
       " [1]  TRUE FALSE FALSE FALSE FALSE  TRUE  TRUE  TRUE  TRUE FALSE FALSE  TRUE"
      ]
     },
     "metadata": {},
     "output_type": "display_data"
    }
   ],
   "source": [
    "good.months <- profit.after.tax > mean_pat\n",
    "good.months"
   ]
  },
  {
   "cell_type": "markdown",
   "metadata": {},
   "source": [
    "## Bad Months Are The Opposite Of Good Months !"
   ]
  },
  {
   "cell_type": "code",
   "execution_count": 8,
   "metadata": {},
   "outputs": [
    {
     "data": {
      "text/html": [
       "<ol class=list-inline>\n",
       "\t<li>FALSE</li>\n",
       "\t<li>TRUE</li>\n",
       "\t<li>TRUE</li>\n",
       "\t<li>TRUE</li>\n",
       "\t<li>TRUE</li>\n",
       "\t<li>FALSE</li>\n",
       "\t<li>FALSE</li>\n",
       "\t<li>FALSE</li>\n",
       "\t<li>FALSE</li>\n",
       "\t<li>TRUE</li>\n",
       "\t<li>TRUE</li>\n",
       "\t<li>FALSE</li>\n",
       "</ol>\n"
      ],
      "text/latex": [
       "\\begin{enumerate*}\n",
       "\\item FALSE\n",
       "\\item TRUE\n",
       "\\item TRUE\n",
       "\\item TRUE\n",
       "\\item TRUE\n",
       "\\item FALSE\n",
       "\\item FALSE\n",
       "\\item FALSE\n",
       "\\item FALSE\n",
       "\\item TRUE\n",
       "\\item TRUE\n",
       "\\item FALSE\n",
       "\\end{enumerate*}\n"
      ],
      "text/markdown": [
       "1. FALSE\n",
       "2. TRUE\n",
       "3. TRUE\n",
       "4. TRUE\n",
       "5. TRUE\n",
       "6. FALSE\n",
       "7. FALSE\n",
       "8. FALSE\n",
       "9. FALSE\n",
       "10. TRUE\n",
       "11. TRUE\n",
       "12. FALSE\n",
       "\n",
       "\n"
      ],
      "text/plain": [
       " [1] FALSE  TRUE  TRUE  TRUE  TRUE FALSE FALSE FALSE FALSE  TRUE  TRUE FALSE"
      ]
     },
     "metadata": {},
     "output_type": "display_data"
    }
   ],
   "source": [
    "bad.months <- !good.months\n",
    "bad.months"
   ]
  },
  {
   "cell_type": "markdown",
   "metadata": {},
   "source": [
    "## The Best Month Is Where Profit After Tax Was Equal To The Maximum"
   ]
  },
  {
   "cell_type": "code",
   "execution_count": 9,
   "metadata": {},
   "outputs": [
    {
     "data": {
      "text/html": [
       "<ol class=list-inline>\n",
       "\t<li>FALSE</li>\n",
       "\t<li>FALSE</li>\n",
       "\t<li>FALSE</li>\n",
       "\t<li>FALSE</li>\n",
       "\t<li>FALSE</li>\n",
       "\t<li>FALSE</li>\n",
       "\t<li>FALSE</li>\n",
       "\t<li>FALSE</li>\n",
       "\t<li>FALSE</li>\n",
       "\t<li>FALSE</li>\n",
       "\t<li>FALSE</li>\n",
       "\t<li>TRUE</li>\n",
       "</ol>\n"
      ],
      "text/latex": [
       "\\begin{enumerate*}\n",
       "\\item FALSE\n",
       "\\item FALSE\n",
       "\\item FALSE\n",
       "\\item FALSE\n",
       "\\item FALSE\n",
       "\\item FALSE\n",
       "\\item FALSE\n",
       "\\item FALSE\n",
       "\\item FALSE\n",
       "\\item FALSE\n",
       "\\item FALSE\n",
       "\\item TRUE\n",
       "\\end{enumerate*}\n"
      ],
      "text/markdown": [
       "1. FALSE\n",
       "2. FALSE\n",
       "3. FALSE\n",
       "4. FALSE\n",
       "5. FALSE\n",
       "6. FALSE\n",
       "7. FALSE\n",
       "8. FALSE\n",
       "9. FALSE\n",
       "10. FALSE\n",
       "11. FALSE\n",
       "12. TRUE\n",
       "\n",
       "\n"
      ],
      "text/plain": [
       " [1] FALSE FALSE FALSE FALSE FALSE FALSE FALSE FALSE FALSE FALSE FALSE  TRUE"
      ]
     },
     "metadata": {},
     "output_type": "display_data"
    }
   ],
   "source": [
    "best.month <- profit.after.tax == max(profit.after.tax)\n",
    "best.month"
   ]
  },
  {
   "cell_type": "markdown",
   "metadata": {},
   "source": [
    "## The Worst Month Is Where Profit After Tax Was Equal To The Minimum"
   ]
  },
  {
   "cell_type": "code",
   "execution_count": 10,
   "metadata": {},
   "outputs": [
    {
     "data": {
      "text/html": [
       "<ol class=list-inline>\n",
       "\t<li>FALSE</li>\n",
       "\t<li>FALSE</li>\n",
       "\t<li>TRUE</li>\n",
       "\t<li>FALSE</li>\n",
       "\t<li>FALSE</li>\n",
       "\t<li>FALSE</li>\n",
       "\t<li>FALSE</li>\n",
       "\t<li>FALSE</li>\n",
       "\t<li>FALSE</li>\n",
       "\t<li>FALSE</li>\n",
       "\t<li>FALSE</li>\n",
       "\t<li>FALSE</li>\n",
       "</ol>\n"
      ],
      "text/latex": [
       "\\begin{enumerate*}\n",
       "\\item FALSE\n",
       "\\item FALSE\n",
       "\\item TRUE\n",
       "\\item FALSE\n",
       "\\item FALSE\n",
       "\\item FALSE\n",
       "\\item FALSE\n",
       "\\item FALSE\n",
       "\\item FALSE\n",
       "\\item FALSE\n",
       "\\item FALSE\n",
       "\\item FALSE\n",
       "\\end{enumerate*}\n"
      ],
      "text/markdown": [
       "1. FALSE\n",
       "2. FALSE\n",
       "3. TRUE\n",
       "4. FALSE\n",
       "5. FALSE\n",
       "6. FALSE\n",
       "7. FALSE\n",
       "8. FALSE\n",
       "9. FALSE\n",
       "10. FALSE\n",
       "11. FALSE\n",
       "12. FALSE\n",
       "\n",
       "\n"
      ],
      "text/plain": [
       " [1] FALSE FALSE  TRUE FALSE FALSE FALSE FALSE FALSE FALSE FALSE FALSE FALSE"
      ]
     },
     "metadata": {},
     "output_type": "display_data"
    }
   ],
   "source": [
    "worst.month <- profit.after.tax == min(profit.after.tax)\n",
    "worst.month"
   ]
  },
  {
   "cell_type": "markdown",
   "metadata": {},
   "source": [
    "## Convert All Calculations To Units Of One Thousand Dollars"
   ]
  },
  {
   "cell_type": "code",
   "execution_count": 11,
   "metadata": {},
   "outputs": [],
   "source": [
    "revenue.1000 <- round(revenue / 1000, 0)\n",
    "expenses.1000 <- round(expenses / 1000, 0)\n",
    "profit.1000 <- round(profit / 1000, 0)\n",
    "profit.after.tax.1000 <- round(profit.after.tax / 1000, 0)"
   ]
  },
  {
   "cell_type": "markdown",
   "metadata": {},
   "source": [
    "## Print Results"
   ]
  },
  {
   "cell_type": "code",
   "execution_count": 12,
   "metadata": {},
   "outputs": [
    {
     "data": {
      "text/html": [
       "<ol class=list-inline>\n",
       "\t<li>15</li>\n",
       "\t<li>8</li>\n",
       "\t<li>9</li>\n",
       "\t<li>9</li>\n",
       "\t<li>8</li>\n",
       "\t<li>8</li>\n",
       "\t<li>11</li>\n",
       "\t<li>10</li>\n",
       "\t<li>10</li>\n",
       "\t<li>14</li>\n",
       "\t<li>11</li>\n",
       "\t<li>15</li>\n",
       "</ol>\n"
      ],
      "text/latex": [
       "\\begin{enumerate*}\n",
       "\\item 15\n",
       "\\item 8\n",
       "\\item 9\n",
       "\\item 9\n",
       "\\item 8\n",
       "\\item 8\n",
       "\\item 11\n",
       "\\item 10\n",
       "\\item 10\n",
       "\\item 14\n",
       "\\item 11\n",
       "\\item 15\n",
       "\\end{enumerate*}\n"
      ],
      "text/markdown": [
       "1. 15\n",
       "2. 8\n",
       "3. 9\n",
       "4. 9\n",
       "5. 8\n",
       "6. 8\n",
       "7. 11\n",
       "8. 10\n",
       "9. 10\n",
       "10. 14\n",
       "11. 11\n",
       "12. 15\n",
       "\n",
       "\n"
      ],
      "text/plain": [
       " [1] 15  8  9  9  8  8 11 10 10 14 11 15"
      ]
     },
     "metadata": {},
     "output_type": "display_data"
    },
    {
     "data": {
      "text/html": [
       "<ol class=list-inline>\n",
       "\t<li>12</li>\n",
       "\t<li>6</li>\n",
       "\t<li>12</li>\n",
       "\t<li>12</li>\n",
       "\t<li>9</li>\n",
       "\t<li>1</li>\n",
       "\t<li>3</li>\n",
       "\t<li>6</li>\n",
       "\t<li>7</li>\n",
       "\t<li>17</li>\n",
       "\t<li>10</li>\n",
       "\t<li>4</li>\n",
       "</ol>\n"
      ],
      "text/latex": [
       "\\begin{enumerate*}\n",
       "\\item 12\n",
       "\\item 6\n",
       "\\item 12\n",
       "\\item 12\n",
       "\\item 9\n",
       "\\item 1\n",
       "\\item 3\n",
       "\\item 6\n",
       "\\item 7\n",
       "\\item 17\n",
       "\\item 10\n",
       "\\item 4\n",
       "\\end{enumerate*}\n"
      ],
      "text/markdown": [
       "1. 12\n",
       "2. 6\n",
       "3. 12\n",
       "4. 12\n",
       "5. 9\n",
       "6. 1\n",
       "7. 3\n",
       "8. 6\n",
       "9. 7\n",
       "10. 17\n",
       "11. 10\n",
       "12. 4\n",
       "\n",
       "\n"
      ],
      "text/plain": [
       " [1] 12  6 12 12  9  1  3  6  7 17 10  4"
      ]
     },
     "metadata": {},
     "output_type": "display_data"
    },
    {
     "data": {
      "text/html": [
       "<ol class=list-inline>\n",
       "\t<li>3</li>\n",
       "\t<li>2</li>\n",
       "\t<li>-4</li>\n",
       "\t<li>-3</li>\n",
       "\t<li>-1</li>\n",
       "\t<li>7</li>\n",
       "\t<li>8</li>\n",
       "\t<li>4</li>\n",
       "\t<li>3</li>\n",
       "\t<li>-2</li>\n",
       "\t<li>1</li>\n",
       "\t<li>12</li>\n",
       "</ol>\n"
      ],
      "text/latex": [
       "\\begin{enumerate*}\n",
       "\\item 3\n",
       "\\item 2\n",
       "\\item -4\n",
       "\\item -3\n",
       "\\item -1\n",
       "\\item 7\n",
       "\\item 8\n",
       "\\item 4\n",
       "\\item 3\n",
       "\\item -2\n",
       "\\item 1\n",
       "\\item 12\n",
       "\\end{enumerate*}\n"
      ],
      "text/markdown": [
       "1. 3\n",
       "2. 2\n",
       "3. -4\n",
       "4. -3\n",
       "5. -1\n",
       "6. 7\n",
       "7. 8\n",
       "8. 4\n",
       "9. 3\n",
       "10. -2\n",
       "11. 1\n",
       "12. 12\n",
       "\n",
       "\n"
      ],
      "text/plain": [
       " [1]  3  2 -4 -3 -1  7  8  4  3 -2  1 12"
      ]
     },
     "metadata": {},
     "output_type": "display_data"
    },
    {
     "data": {
      "text/html": [
       "<ol class=list-inline>\n",
       "\t<li>2</li>\n",
       "\t<li>1</li>\n",
       "\t<li>-3</li>\n",
       "\t<li>-2</li>\n",
       "\t<li>0</li>\n",
       "\t<li>5</li>\n",
       "\t<li>6</li>\n",
       "\t<li>3</li>\n",
       "\t<li>2</li>\n",
       "\t<li>-2</li>\n",
       "\t<li>0</li>\n",
       "\t<li>8</li>\n",
       "</ol>\n"
      ],
      "text/latex": [
       "\\begin{enumerate*}\n",
       "\\item 2\n",
       "\\item 1\n",
       "\\item -3\n",
       "\\item -2\n",
       "\\item 0\n",
       "\\item 5\n",
       "\\item 6\n",
       "\\item 3\n",
       "\\item 2\n",
       "\\item -2\n",
       "\\item 0\n",
       "\\item 8\n",
       "\\end{enumerate*}\n"
      ],
      "text/markdown": [
       "1. 2\n",
       "2. 1\n",
       "3. -3\n",
       "4. -2\n",
       "5. 0\n",
       "6. 5\n",
       "7. 6\n",
       "8. 3\n",
       "9. 2\n",
       "10. -2\n",
       "11. 0\n",
       "12. 8\n",
       "\n",
       "\n"
      ],
      "text/plain": [
       " [1]  2  1 -3 -2  0  5  6  3  2 -2  0  8"
      ]
     },
     "metadata": {},
     "output_type": "display_data"
    },
    {
     "data": {
      "text/html": [
       "<ol class=list-inline>\n",
       "\t<li>12</li>\n",
       "\t<li>18</li>\n",
       "\t<li>-30</li>\n",
       "\t<li>-22</li>\n",
       "\t<li>-5</li>\n",
       "\t<li>63</li>\n",
       "\t<li>50</li>\n",
       "\t<li>28</li>\n",
       "\t<li>23</li>\n",
       "\t<li>-11</li>\n",
       "\t<li>4</li>\n",
       "\t<li>53</li>\n",
       "</ol>\n"
      ],
      "text/latex": [
       "\\begin{enumerate*}\n",
       "\\item 12\n",
       "\\item 18\n",
       "\\item -30\n",
       "\\item -22\n",
       "\\item -5\n",
       "\\item 63\n",
       "\\item 50\n",
       "\\item 28\n",
       "\\item 23\n",
       "\\item -11\n",
       "\\item 4\n",
       "\\item 53\n",
       "\\end{enumerate*}\n"
      ],
      "text/markdown": [
       "1. 12\n",
       "2. 18\n",
       "3. -30\n",
       "4. -22\n",
       "5. -5\n",
       "6. 63\n",
       "7. 50\n",
       "8. 28\n",
       "9. 23\n",
       "10. -11\n",
       "11. 4\n",
       "12. 53\n",
       "\n",
       "\n"
      ],
      "text/plain": [
       " [1]  12  18 -30 -22  -5  63  50  28  23 -11   4  53"
      ]
     },
     "metadata": {},
     "output_type": "display_data"
    },
    {
     "data": {
      "text/html": [
       "<ol class=list-inline>\n",
       "\t<li>TRUE</li>\n",
       "\t<li>FALSE</li>\n",
       "\t<li>FALSE</li>\n",
       "\t<li>FALSE</li>\n",
       "\t<li>FALSE</li>\n",
       "\t<li>TRUE</li>\n",
       "\t<li>TRUE</li>\n",
       "\t<li>TRUE</li>\n",
       "\t<li>TRUE</li>\n",
       "\t<li>FALSE</li>\n",
       "\t<li>FALSE</li>\n",
       "\t<li>TRUE</li>\n",
       "</ol>\n"
      ],
      "text/latex": [
       "\\begin{enumerate*}\n",
       "\\item TRUE\n",
       "\\item FALSE\n",
       "\\item FALSE\n",
       "\\item FALSE\n",
       "\\item FALSE\n",
       "\\item TRUE\n",
       "\\item TRUE\n",
       "\\item TRUE\n",
       "\\item TRUE\n",
       "\\item FALSE\n",
       "\\item FALSE\n",
       "\\item TRUE\n",
       "\\end{enumerate*}\n"
      ],
      "text/markdown": [
       "1. TRUE\n",
       "2. FALSE\n",
       "3. FALSE\n",
       "4. FALSE\n",
       "5. FALSE\n",
       "6. TRUE\n",
       "7. TRUE\n",
       "8. TRUE\n",
       "9. TRUE\n",
       "10. FALSE\n",
       "11. FALSE\n",
       "12. TRUE\n",
       "\n",
       "\n"
      ],
      "text/plain": [
       " [1]  TRUE FALSE FALSE FALSE FALSE  TRUE  TRUE  TRUE  TRUE FALSE FALSE  TRUE"
      ]
     },
     "metadata": {},
     "output_type": "display_data"
    },
    {
     "data": {
      "text/html": [
       "<ol class=list-inline>\n",
       "\t<li>FALSE</li>\n",
       "\t<li>TRUE</li>\n",
       "\t<li>TRUE</li>\n",
       "\t<li>TRUE</li>\n",
       "\t<li>TRUE</li>\n",
       "\t<li>FALSE</li>\n",
       "\t<li>FALSE</li>\n",
       "\t<li>FALSE</li>\n",
       "\t<li>FALSE</li>\n",
       "\t<li>TRUE</li>\n",
       "\t<li>TRUE</li>\n",
       "\t<li>FALSE</li>\n",
       "</ol>\n"
      ],
      "text/latex": [
       "\\begin{enumerate*}\n",
       "\\item FALSE\n",
       "\\item TRUE\n",
       "\\item TRUE\n",
       "\\item TRUE\n",
       "\\item TRUE\n",
       "\\item FALSE\n",
       "\\item FALSE\n",
       "\\item FALSE\n",
       "\\item FALSE\n",
       "\\item TRUE\n",
       "\\item TRUE\n",
       "\\item FALSE\n",
       "\\end{enumerate*}\n"
      ],
      "text/markdown": [
       "1. FALSE\n",
       "2. TRUE\n",
       "3. TRUE\n",
       "4. TRUE\n",
       "5. TRUE\n",
       "6. FALSE\n",
       "7. FALSE\n",
       "8. FALSE\n",
       "9. FALSE\n",
       "10. TRUE\n",
       "11. TRUE\n",
       "12. FALSE\n",
       "\n",
       "\n"
      ],
      "text/plain": [
       " [1] FALSE  TRUE  TRUE  TRUE  TRUE FALSE FALSE FALSE FALSE  TRUE  TRUE FALSE"
      ]
     },
     "metadata": {},
     "output_type": "display_data"
    },
    {
     "data": {
      "text/html": [
       "<ol class=list-inline>\n",
       "\t<li>FALSE</li>\n",
       "\t<li>FALSE</li>\n",
       "\t<li>FALSE</li>\n",
       "\t<li>FALSE</li>\n",
       "\t<li>FALSE</li>\n",
       "\t<li>FALSE</li>\n",
       "\t<li>FALSE</li>\n",
       "\t<li>FALSE</li>\n",
       "\t<li>FALSE</li>\n",
       "\t<li>FALSE</li>\n",
       "\t<li>FALSE</li>\n",
       "\t<li>TRUE</li>\n",
       "</ol>\n"
      ],
      "text/latex": [
       "\\begin{enumerate*}\n",
       "\\item FALSE\n",
       "\\item FALSE\n",
       "\\item FALSE\n",
       "\\item FALSE\n",
       "\\item FALSE\n",
       "\\item FALSE\n",
       "\\item FALSE\n",
       "\\item FALSE\n",
       "\\item FALSE\n",
       "\\item FALSE\n",
       "\\item FALSE\n",
       "\\item TRUE\n",
       "\\end{enumerate*}\n"
      ],
      "text/markdown": [
       "1. FALSE\n",
       "2. FALSE\n",
       "3. FALSE\n",
       "4. FALSE\n",
       "5. FALSE\n",
       "6. FALSE\n",
       "7. FALSE\n",
       "8. FALSE\n",
       "9. FALSE\n",
       "10. FALSE\n",
       "11. FALSE\n",
       "12. TRUE\n",
       "\n",
       "\n"
      ],
      "text/plain": [
       " [1] FALSE FALSE FALSE FALSE FALSE FALSE FALSE FALSE FALSE FALSE FALSE  TRUE"
      ]
     },
     "metadata": {},
     "output_type": "display_data"
    },
    {
     "data": {
      "text/html": [
       "<ol class=list-inline>\n",
       "\t<li>FALSE</li>\n",
       "\t<li>FALSE</li>\n",
       "\t<li>TRUE</li>\n",
       "\t<li>FALSE</li>\n",
       "\t<li>FALSE</li>\n",
       "\t<li>FALSE</li>\n",
       "\t<li>FALSE</li>\n",
       "\t<li>FALSE</li>\n",
       "\t<li>FALSE</li>\n",
       "\t<li>FALSE</li>\n",
       "\t<li>FALSE</li>\n",
       "\t<li>FALSE</li>\n",
       "</ol>\n"
      ],
      "text/latex": [
       "\\begin{enumerate*}\n",
       "\\item FALSE\n",
       "\\item FALSE\n",
       "\\item TRUE\n",
       "\\item FALSE\n",
       "\\item FALSE\n",
       "\\item FALSE\n",
       "\\item FALSE\n",
       "\\item FALSE\n",
       "\\item FALSE\n",
       "\\item FALSE\n",
       "\\item FALSE\n",
       "\\item FALSE\n",
       "\\end{enumerate*}\n"
      ],
      "text/markdown": [
       "1. FALSE\n",
       "2. FALSE\n",
       "3. TRUE\n",
       "4. FALSE\n",
       "5. FALSE\n",
       "6. FALSE\n",
       "7. FALSE\n",
       "8. FALSE\n",
       "9. FALSE\n",
       "10. FALSE\n",
       "11. FALSE\n",
       "12. FALSE\n",
       "\n",
       "\n"
      ],
      "text/plain": [
       " [1] FALSE FALSE  TRUE FALSE FALSE FALSE FALSE FALSE FALSE FALSE FALSE FALSE"
      ]
     },
     "metadata": {},
     "output_type": "display_data"
    }
   ],
   "source": [
    "revenue.1000\n",
    "expenses.1000\n",
    "profit.1000\n",
    "profit.after.tax.1000\n",
    "profit.margin\n",
    "good.months\n",
    "bad.months\n",
    "best.month\n",
    "worst.month"
   ]
  },
  {
   "cell_type": "markdown",
   "metadata": {},
   "source": [
    "# BONUS"
   ]
  },
  {
   "cell_type": "markdown",
   "metadata": {},
   "source": [
    "## Preview Of What's Coming In The Next Section"
   ]
  },
  {
   "cell_type": "code",
   "execution_count": 13,
   "metadata": {},
   "outputs": [],
   "source": [
    "M <- rbind(\n",
    "  revenue.1000,\n",
    "  expenses.1000,\n",
    "  profit.1000,\n",
    "  profit.after.tax.1000,\n",
    "  profit.margin,\n",
    "  good.months,\n",
    "  bad.months,\n",
    "  best.month,\n",
    "  worst.month\n",
    ")"
   ]
  },
  {
   "cell_type": "markdown",
   "metadata": {},
   "source": [
    "## Print The Matrix"
   ]
  },
  {
   "cell_type": "code",
   "execution_count": 14,
   "metadata": {},
   "outputs": [
    {
     "name": "stdout",
     "output_type": "stream",
     "text": [
      "                      [,1] [,2] [,3] [,4] [,5] [,6] [,7] [,8] [,9] [,10] [,11]\n",
      "revenue.1000            15    8    9    9    8    8   11   10   10    14    11\n",
      "expenses.1000           12    6   12   12    9    1    3    6    7    17    10\n",
      "profit.1000              3    2   -4   -3   -1    7    8    4    3    -2     1\n",
      "profit.after.tax.1000    2    1   -3   -2    0    5    6    3    2    -2     0\n",
      "profit.margin           12   18  -30  -22   -5   63   50   28   23   -11     4\n",
      "good.months              1    0    0    0    0    1    1    1    1     0     0\n",
      "bad.months               0    1    1    1    1    0    0    0    0     1     1\n",
      "best.month               0    0    0    0    0    0    0    0    0     0     0\n",
      "worst.month              0    0    1    0    0    0    0    0    0     0     0\n",
      "                      [,12]\n",
      "revenue.1000             15\n",
      "expenses.1000             4\n",
      "profit.1000              12\n",
      "profit.after.tax.1000     8\n",
      "profit.margin            53\n",
      "good.months               1\n",
      "bad.months                0\n",
      "best.month                1\n",
      "worst.month               0\n"
     ]
    }
   ],
   "source": [
    "print(M)"
   ]
  }
 ],
 "metadata": {
  "kernelspec": {
   "display_name": "R",
   "language": "R",
   "name": "r"
  },
  "language_info": {
   "codemirror_mode": "r",
   "file_extension": ".r",
   "mimetype": "text/x-r-source",
   "name": "R",
   "pygments_lexer": "r",
   "version": "3.4.1"
  }
 },
 "nbformat": 4,
 "nbformat_minor": 2
}
